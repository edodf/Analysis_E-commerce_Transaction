{
 "cells": [
  {
   "cell_type": "markdown",
   "metadata": {},
   "source": [
    "# E-commerce Business Transaction"
   ]
  },
  {
   "cell_type": "code",
   "execution_count": 2,
   "metadata": {},
   "outputs": [],
   "source": [
    "#import library yang dibutuhkan\n",
    "import pandas as pd             #membaca dan mengolah dataframe\n",
    "import matplotlib.pyplot as plt #membuat grafik\n",
    "import seaborn as sns           #statistik lanjutan"
   ]
  },
  {
   "cell_type": "code",
   "execution_count": 3,
   "metadata": {},
   "outputs": [
    {
     "data": {
      "text/html": [
       "<div>\n",
       "<style scoped>\n",
       "    .dataframe tbody tr th:only-of-type {\n",
       "        vertical-align: middle;\n",
       "    }\n",
       "\n",
       "    .dataframe tbody tr th {\n",
       "        vertical-align: top;\n",
       "    }\n",
       "\n",
       "    .dataframe thead th {\n",
       "        text-align: right;\n",
       "    }\n",
       "</style>\n",
       "<table border=\"1\" class=\"dataframe\">\n",
       "  <thead>\n",
       "    <tr style=\"text-align: right;\">\n",
       "      <th></th>\n",
       "      <th>TransactionNo</th>\n",
       "      <th>Date</th>\n",
       "      <th>ProductNo</th>\n",
       "      <th>ProductName</th>\n",
       "      <th>Price</th>\n",
       "      <th>Quantity</th>\n",
       "      <th>CustomerNo</th>\n",
       "      <th>Country</th>\n",
       "    </tr>\n",
       "  </thead>\n",
       "  <tbody>\n",
       "    <tr>\n",
       "      <th>0</th>\n",
       "      <td>581482</td>\n",
       "      <td>12/9/2019</td>\n",
       "      <td>22485</td>\n",
       "      <td>Set Of 2 Wooden Market Crates</td>\n",
       "      <td>21.47</td>\n",
       "      <td>12</td>\n",
       "      <td>17490.0</td>\n",
       "      <td>United Kingdom</td>\n",
       "    </tr>\n",
       "    <tr>\n",
       "      <th>1</th>\n",
       "      <td>581475</td>\n",
       "      <td>12/9/2019</td>\n",
       "      <td>22596</td>\n",
       "      <td>Christmas Star Wish List Chalkboard</td>\n",
       "      <td>10.65</td>\n",
       "      <td>36</td>\n",
       "      <td>13069.0</td>\n",
       "      <td>United Kingdom</td>\n",
       "    </tr>\n",
       "    <tr>\n",
       "      <th>2</th>\n",
       "      <td>581475</td>\n",
       "      <td>12/9/2019</td>\n",
       "      <td>23235</td>\n",
       "      <td>Storage Tin Vintage Leaf</td>\n",
       "      <td>11.53</td>\n",
       "      <td>12</td>\n",
       "      <td>13069.0</td>\n",
       "      <td>United Kingdom</td>\n",
       "    </tr>\n",
       "    <tr>\n",
       "      <th>3</th>\n",
       "      <td>581475</td>\n",
       "      <td>12/9/2019</td>\n",
       "      <td>23272</td>\n",
       "      <td>Tree T-Light Holder Willie Winkie</td>\n",
       "      <td>10.65</td>\n",
       "      <td>12</td>\n",
       "      <td>13069.0</td>\n",
       "      <td>United Kingdom</td>\n",
       "    </tr>\n",
       "    <tr>\n",
       "      <th>4</th>\n",
       "      <td>581475</td>\n",
       "      <td>12/9/2019</td>\n",
       "      <td>23239</td>\n",
       "      <td>Set Of 4 Knick Knack Tins Poppies</td>\n",
       "      <td>11.94</td>\n",
       "      <td>6</td>\n",
       "      <td>13069.0</td>\n",
       "      <td>United Kingdom</td>\n",
       "    </tr>\n",
       "    <tr>\n",
       "      <th>...</th>\n",
       "      <td>...</td>\n",
       "      <td>...</td>\n",
       "      <td>...</td>\n",
       "      <td>...</td>\n",
       "      <td>...</td>\n",
       "      <td>...</td>\n",
       "      <td>...</td>\n",
       "      <td>...</td>\n",
       "    </tr>\n",
       "    <tr>\n",
       "      <th>536345</th>\n",
       "      <td>C536548</td>\n",
       "      <td>12/1/2018</td>\n",
       "      <td>22168</td>\n",
       "      <td>Organiser Wood Antique White</td>\n",
       "      <td>18.96</td>\n",
       "      <td>-2</td>\n",
       "      <td>12472.0</td>\n",
       "      <td>Germany</td>\n",
       "    </tr>\n",
       "    <tr>\n",
       "      <th>536346</th>\n",
       "      <td>C536548</td>\n",
       "      <td>12/1/2018</td>\n",
       "      <td>21218</td>\n",
       "      <td>Red Spotty Biscuit Tin</td>\n",
       "      <td>14.09</td>\n",
       "      <td>-3</td>\n",
       "      <td>12472.0</td>\n",
       "      <td>Germany</td>\n",
       "    </tr>\n",
       "    <tr>\n",
       "      <th>536347</th>\n",
       "      <td>C536548</td>\n",
       "      <td>12/1/2018</td>\n",
       "      <td>20957</td>\n",
       "      <td>Porcelain Hanging Bell Small</td>\n",
       "      <td>11.74</td>\n",
       "      <td>-1</td>\n",
       "      <td>12472.0</td>\n",
       "      <td>Germany</td>\n",
       "    </tr>\n",
       "    <tr>\n",
       "      <th>536348</th>\n",
       "      <td>C536548</td>\n",
       "      <td>12/1/2018</td>\n",
       "      <td>22580</td>\n",
       "      <td>Advent Calendar Gingham Sack</td>\n",
       "      <td>16.35</td>\n",
       "      <td>-4</td>\n",
       "      <td>12472.0</td>\n",
       "      <td>Germany</td>\n",
       "    </tr>\n",
       "    <tr>\n",
       "      <th>536349</th>\n",
       "      <td>C536548</td>\n",
       "      <td>12/1/2018</td>\n",
       "      <td>22767</td>\n",
       "      <td>Triple Photo Frame Cornice</td>\n",
       "      <td>20.45</td>\n",
       "      <td>-2</td>\n",
       "      <td>12472.0</td>\n",
       "      <td>Germany</td>\n",
       "    </tr>\n",
       "  </tbody>\n",
       "</table>\n",
       "<p>536350 rows × 8 columns</p>\n",
       "</div>"
      ],
      "text/plain": [
       "       TransactionNo       Date ProductNo  \\\n",
       "0             581482  12/9/2019     22485   \n",
       "1             581475  12/9/2019     22596   \n",
       "2             581475  12/9/2019     23235   \n",
       "3             581475  12/9/2019     23272   \n",
       "4             581475  12/9/2019     23239   \n",
       "...              ...        ...       ...   \n",
       "536345       C536548  12/1/2018     22168   \n",
       "536346       C536548  12/1/2018     21218   \n",
       "536347       C536548  12/1/2018     20957   \n",
       "536348       C536548  12/1/2018     22580   \n",
       "536349       C536548  12/1/2018     22767   \n",
       "\n",
       "                                ProductName  Price  Quantity  CustomerNo  \\\n",
       "0             Set Of 2 Wooden Market Crates  21.47        12     17490.0   \n",
       "1       Christmas Star Wish List Chalkboard  10.65        36     13069.0   \n",
       "2                  Storage Tin Vintage Leaf  11.53        12     13069.0   \n",
       "3         Tree T-Light Holder Willie Winkie  10.65        12     13069.0   \n",
       "4         Set Of 4 Knick Knack Tins Poppies  11.94         6     13069.0   \n",
       "...                                     ...    ...       ...         ...   \n",
       "536345         Organiser Wood Antique White  18.96        -2     12472.0   \n",
       "536346               Red Spotty Biscuit Tin  14.09        -3     12472.0   \n",
       "536347         Porcelain Hanging Bell Small  11.74        -1     12472.0   \n",
       "536348         Advent Calendar Gingham Sack  16.35        -4     12472.0   \n",
       "536349           Triple Photo Frame Cornice  20.45        -2     12472.0   \n",
       "\n",
       "               Country  \n",
       "0       United Kingdom  \n",
       "1       United Kingdom  \n",
       "2       United Kingdom  \n",
       "3       United Kingdom  \n",
       "4       United Kingdom  \n",
       "...                ...  \n",
       "536345         Germany  \n",
       "536346         Germany  \n",
       "536347         Germany  \n",
       "536348         Germany  \n",
       "536349         Germany  \n",
       "\n",
       "[536350 rows x 8 columns]"
      ]
     },
     "execution_count": 3,
     "metadata": {},
     "output_type": "execute_result"
    }
   ],
   "source": [
    "#import dataset sales transaction\n",
    "#dataset : https://www.kaggle.com/datasets/gabrielramos87/an-online-shop-business\n",
    "df = pd.read_csv(\"Sales Transaction v.4a.csv\")\n",
    "df"
   ]
  },
  {
   "cell_type": "markdown",
   "metadata": {},
   "source": [
    "Deskripsi Dataset:\n",
    "- TransactionNo : Angka 6 digit yang mendefinisikan setiap transaksi (huruf C menunjukkan pembatalan)\n",
    "- Date : Tanggal transaksi dilakukan\n",
    "- ProductNo : Karakter 5-6 digit untuk mendefinisikan produk tertentu\n",
    "- Product : Nama produk\n",
    "- Price : Harga setiap produk per unit dalam pound sterling (£)\n",
    "- Quantity : Jumlah produk yang dibeli pada transaksi (nilai minus menunjukkan pembatalan)\n",
    "- CustomerNo : Angka 5 digit yang mendefinisikan pelanggan\n",
    "- Country : Nama negara tempat pelanggan tinggal"
   ]
  },
  {
   "cell_type": "markdown",
   "metadata": {},
   "source": [
    "Pertanyaan:\n",
    "1. Bagaimana tren penjualan tiap bulan?\n",
    "2. Apa produk yang paling sering dibeli?\n",
    "3. Berapa banyak produk yang dibeli pelanggan dalam setiap transaksi?\n",
    "4. Segmen pelanggan mana yang paling menguntungkan?\n",
    "5. Strategi apa yang bisa dilakukan untuk mendapatkan lebih banyak untung?"
   ]
  },
  {
   "cell_type": "markdown",
   "metadata": {},
   "source": [
    "# Preprocessinng Data"
   ]
  },
  {
   "cell_type": "code",
   "execution_count": 4,
   "metadata": {},
   "outputs": [
    {
     "data": {
      "text/plain": [
       "TransactionNo     0\n",
       "Date              0\n",
       "ProductNo         0\n",
       "ProductName       0\n",
       "Price             0\n",
       "Quantity          0\n",
       "CustomerNo       55\n",
       "Country           0\n",
       "dtype: int64"
      ]
     },
     "execution_count": 4,
     "metadata": {},
     "output_type": "execute_result"
    }
   ],
   "source": [
    "#cek apakah ada data yang kosong\n",
    "df.isna().sum()"
   ]
  },
  {
   "cell_type": "markdown",
   "metadata": {},
   "source": [
    "Terdapat 55 data kosong pada kolom CustomerNo, selanjutnya data kosong akan dihapus agar tidak mengganggu proses analisis"
   ]
  },
  {
   "cell_type": "code",
   "execution_count": 5,
   "metadata": {},
   "outputs": [
    {
     "data": {
      "text/plain": [
       "(536295, 8)"
      ]
     },
     "execution_count": 5,
     "metadata": {},
     "output_type": "execute_result"
    }
   ],
   "source": [
    "#menghapus 55 data kosong pada kolom CustomerNo\n",
    "df.dropna(subset=['CustomerNo'], inplace=True)\n",
    "\n",
    "#cek jumlah baris dan kolom setelah di cleaning\n",
    "df.shape"
   ]
  },
  {
   "cell_type": "code",
   "execution_count": 6,
   "metadata": {},
   "outputs": [
    {
     "data": {
      "text/plain": [
       "TransactionNo    0\n",
       "Date             0\n",
       "ProductNo        0\n",
       "ProductName      0\n",
       "Price            0\n",
       "Quantity         0\n",
       "CustomerNo       0\n",
       "Country          0\n",
       "dtype: int64"
      ]
     },
     "execution_count": 6,
     "metadata": {},
     "output_type": "execute_result"
    }
   ],
   "source": [
    "#cek apakah ada data yang kosong\n",
    "df.isna().sum()"
   ]
  },
  {
   "cell_type": "code",
   "execution_count": 7,
   "metadata": {},
   "outputs": [
    {
     "name": "stdout",
     "output_type": "stream",
     "text": [
      "<class 'pandas.core.frame.DataFrame'>\n",
      "Int64Index: 536295 entries, 0 to 536349\n",
      "Data columns (total 8 columns):\n",
      " #   Column         Non-Null Count   Dtype  \n",
      "---  ------         --------------   -----  \n",
      " 0   TransactionNo  536295 non-null  object \n",
      " 1   Date           536295 non-null  object \n",
      " 2   ProductNo      536295 non-null  object \n",
      " 3   ProductName    536295 non-null  object \n",
      " 4   Price          536295 non-null  float64\n",
      " 5   Quantity       536295 non-null  int64  \n",
      " 6   CustomerNo     536295 non-null  float64\n",
      " 7   Country        536295 non-null  object \n",
      "dtypes: float64(2), int64(1), object(5)\n",
      "memory usage: 36.8+ MB\n"
     ]
    }
   ],
   "source": [
    "#mengecek dtype data, apakah ada yang tidak sesuai\n",
    "df.info()"
   ]
  },
  {
   "cell_type": "markdown",
   "metadata": {},
   "source": [
    "- Kolom Date seharusnya memiliki Dtype berupa datetime, karena data berupa tanggal\n",
    "- Kolom CustomerNo seharusnya memiliki Dtype berupa object dan menghilangkan .0 dibelakangnya, karena sebagai pembeda antara customer yang satu dengan yang lainnya"
   ]
  },
  {
   "cell_type": "code",
   "execution_count": 8,
   "metadata": {},
   "outputs": [],
   "source": [
    "#mengubah dtype Date & CustomerNo\n",
    "df['Date'] = pd.to_datetime(df['Date'])\n",
    "df['CustomerNo'] = df['CustomerNo'].astype(int)\n",
    "df['CustomerNo'] = df['CustomerNo'].astype(object)"
   ]
  },
  {
   "cell_type": "code",
   "execution_count": 9,
   "metadata": {},
   "outputs": [
    {
     "name": "stdout",
     "output_type": "stream",
     "text": [
      "<class 'pandas.core.frame.DataFrame'>\n",
      "Int64Index: 536295 entries, 0 to 536349\n",
      "Data columns (total 8 columns):\n",
      " #   Column         Non-Null Count   Dtype         \n",
      "---  ------         --------------   -----         \n",
      " 0   TransactionNo  536295 non-null  object        \n",
      " 1   Date           536295 non-null  datetime64[ns]\n",
      " 2   ProductNo      536295 non-null  object        \n",
      " 3   ProductName    536295 non-null  object        \n",
      " 4   Price          536295 non-null  float64       \n",
      " 5   Quantity       536295 non-null  int64         \n",
      " 6   CustomerNo     536295 non-null  object        \n",
      " 7   Country        536295 non-null  object        \n",
      "dtypes: datetime64[ns](1), float64(1), int64(1), object(5)\n",
      "memory usage: 36.8+ MB\n"
     ]
    }
   ],
   "source": [
    "#cek kembali dtype-nya\n",
    "df.info()"
   ]
  },
  {
   "cell_type": "code",
   "execution_count": 10,
   "metadata": {
    "scrolled": true
   },
   "outputs": [
    {
     "data": {
      "text/html": [
       "<div>\n",
       "<style scoped>\n",
       "    .dataframe tbody tr th:only-of-type {\n",
       "        vertical-align: middle;\n",
       "    }\n",
       "\n",
       "    .dataframe tbody tr th {\n",
       "        vertical-align: top;\n",
       "    }\n",
       "\n",
       "    .dataframe thead th {\n",
       "        text-align: right;\n",
       "    }\n",
       "</style>\n",
       "<table border=\"1\" class=\"dataframe\">\n",
       "  <thead>\n",
       "    <tr style=\"text-align: right;\">\n",
       "      <th></th>\n",
       "      <th>TransactionNo</th>\n",
       "      <th>Date</th>\n",
       "      <th>ProductNo</th>\n",
       "      <th>ProductName</th>\n",
       "      <th>Price</th>\n",
       "      <th>Quantity</th>\n",
       "      <th>CustomerNo</th>\n",
       "      <th>Country</th>\n",
       "    </tr>\n",
       "  </thead>\n",
       "  <tbody>\n",
       "    <tr>\n",
       "      <th>0</th>\n",
       "      <td>581482</td>\n",
       "      <td>2019-12-09</td>\n",
       "      <td>22485</td>\n",
       "      <td>Set Of 2 Wooden Market Crates</td>\n",
       "      <td>21.47</td>\n",
       "      <td>12</td>\n",
       "      <td>17490</td>\n",
       "      <td>United Kingdom</td>\n",
       "    </tr>\n",
       "    <tr>\n",
       "      <th>1</th>\n",
       "      <td>581475</td>\n",
       "      <td>2019-12-09</td>\n",
       "      <td>22596</td>\n",
       "      <td>Christmas Star Wish List Chalkboard</td>\n",
       "      <td>10.65</td>\n",
       "      <td>36</td>\n",
       "      <td>13069</td>\n",
       "      <td>United Kingdom</td>\n",
       "    </tr>\n",
       "    <tr>\n",
       "      <th>2</th>\n",
       "      <td>581475</td>\n",
       "      <td>2019-12-09</td>\n",
       "      <td>23235</td>\n",
       "      <td>Storage Tin Vintage Leaf</td>\n",
       "      <td>11.53</td>\n",
       "      <td>12</td>\n",
       "      <td>13069</td>\n",
       "      <td>United Kingdom</td>\n",
       "    </tr>\n",
       "    <tr>\n",
       "      <th>3</th>\n",
       "      <td>581475</td>\n",
       "      <td>2019-12-09</td>\n",
       "      <td>23272</td>\n",
       "      <td>Tree T-Light Holder Willie Winkie</td>\n",
       "      <td>10.65</td>\n",
       "      <td>12</td>\n",
       "      <td>13069</td>\n",
       "      <td>United Kingdom</td>\n",
       "    </tr>\n",
       "    <tr>\n",
       "      <th>4</th>\n",
       "      <td>581475</td>\n",
       "      <td>2019-12-09</td>\n",
       "      <td>23239</td>\n",
       "      <td>Set Of 4 Knick Knack Tins Poppies</td>\n",
       "      <td>11.94</td>\n",
       "      <td>6</td>\n",
       "      <td>13069</td>\n",
       "      <td>United Kingdom</td>\n",
       "    </tr>\n",
       "  </tbody>\n",
       "</table>\n",
       "</div>"
      ],
      "text/plain": [
       "  TransactionNo       Date ProductNo                          ProductName  \\\n",
       "0        581482 2019-12-09     22485        Set Of 2 Wooden Market Crates   \n",
       "1        581475 2019-12-09     22596  Christmas Star Wish List Chalkboard   \n",
       "2        581475 2019-12-09     23235             Storage Tin Vintage Leaf   \n",
       "3        581475 2019-12-09     23272    Tree T-Light Holder Willie Winkie   \n",
       "4        581475 2019-12-09     23239    Set Of 4 Knick Knack Tins Poppies   \n",
       "\n",
       "   Price  Quantity CustomerNo         Country  \n",
       "0  21.47        12      17490  United Kingdom  \n",
       "1  10.65        36      13069  United Kingdom  \n",
       "2  11.53        12      13069  United Kingdom  \n",
       "3  10.65        12      13069  United Kingdom  \n",
       "4  11.94         6      13069  United Kingdom  "
      ]
     },
     "execution_count": 10,
     "metadata": {},
     "output_type": "execute_result"
    }
   ],
   "source": [
    "#cek kembali bentuk datanya\n",
    "df.head()"
   ]
  },
  {
   "cell_type": "markdown",
   "metadata": {},
   "source": [
    "Data sudah bersih dan memiliki dtype yang sesuai. Selanjutnya adalah memisahkan dataset berdasarkan data transaksi pembelian dengan pesanan yang dibatalkan. Pesanan yang dibatalkan ditandai dengan huruf C pada awalan TransactionNo"
   ]
  },
  {
   "cell_type": "code",
   "execution_count": 11,
   "metadata": {},
   "outputs": [],
   "source": [
    "#filter data TransactionNo yang di cancel dengan yang tidak\n",
    "cancel_mask = df[\"TransactionNo\"].str.startswith(\"C\")\n",
    "df_transaction = df[~cancel_mask]\n",
    "df_cancel = df[cancel_mask]"
   ]
  },
  {
   "cell_type": "code",
   "execution_count": 12,
   "metadata": {},
   "outputs": [
    {
     "data": {
      "text/html": [
       "<div>\n",
       "<style scoped>\n",
       "    .dataframe tbody tr th:only-of-type {\n",
       "        vertical-align: middle;\n",
       "    }\n",
       "\n",
       "    .dataframe tbody tr th {\n",
       "        vertical-align: top;\n",
       "    }\n",
       "\n",
       "    .dataframe thead th {\n",
       "        text-align: right;\n",
       "    }\n",
       "</style>\n",
       "<table border=\"1\" class=\"dataframe\">\n",
       "  <thead>\n",
       "    <tr style=\"text-align: right;\">\n",
       "      <th></th>\n",
       "      <th>TransactionNo</th>\n",
       "      <th>Date</th>\n",
       "      <th>ProductNo</th>\n",
       "      <th>ProductName</th>\n",
       "      <th>Price</th>\n",
       "      <th>Quantity</th>\n",
       "      <th>CustomerNo</th>\n",
       "      <th>Country</th>\n",
       "    </tr>\n",
       "  </thead>\n",
       "  <tbody>\n",
       "    <tr>\n",
       "      <th>0</th>\n",
       "      <td>581482</td>\n",
       "      <td>2019-12-09</td>\n",
       "      <td>22485</td>\n",
       "      <td>Set Of 2 Wooden Market Crates</td>\n",
       "      <td>21.47</td>\n",
       "      <td>12</td>\n",
       "      <td>17490</td>\n",
       "      <td>United Kingdom</td>\n",
       "    </tr>\n",
       "    <tr>\n",
       "      <th>1</th>\n",
       "      <td>581475</td>\n",
       "      <td>2019-12-09</td>\n",
       "      <td>22596</td>\n",
       "      <td>Christmas Star Wish List Chalkboard</td>\n",
       "      <td>10.65</td>\n",
       "      <td>36</td>\n",
       "      <td>13069</td>\n",
       "      <td>United Kingdom</td>\n",
       "    </tr>\n",
       "    <tr>\n",
       "      <th>2</th>\n",
       "      <td>581475</td>\n",
       "      <td>2019-12-09</td>\n",
       "      <td>23235</td>\n",
       "      <td>Storage Tin Vintage Leaf</td>\n",
       "      <td>11.53</td>\n",
       "      <td>12</td>\n",
       "      <td>13069</td>\n",
       "      <td>United Kingdom</td>\n",
       "    </tr>\n",
       "    <tr>\n",
       "      <th>3</th>\n",
       "      <td>581475</td>\n",
       "      <td>2019-12-09</td>\n",
       "      <td>23272</td>\n",
       "      <td>Tree T-Light Holder Willie Winkie</td>\n",
       "      <td>10.65</td>\n",
       "      <td>12</td>\n",
       "      <td>13069</td>\n",
       "      <td>United Kingdom</td>\n",
       "    </tr>\n",
       "    <tr>\n",
       "      <th>4</th>\n",
       "      <td>581475</td>\n",
       "      <td>2019-12-09</td>\n",
       "      <td>23239</td>\n",
       "      <td>Set Of 4 Knick Knack Tins Poppies</td>\n",
       "      <td>11.94</td>\n",
       "      <td>6</td>\n",
       "      <td>13069</td>\n",
       "      <td>United Kingdom</td>\n",
       "    </tr>\n",
       "    <tr>\n",
       "      <th>...</th>\n",
       "      <td>...</td>\n",
       "      <td>...</td>\n",
       "      <td>...</td>\n",
       "      <td>...</td>\n",
       "      <td>...</td>\n",
       "      <td>...</td>\n",
       "      <td>...</td>\n",
       "      <td>...</td>\n",
       "    </tr>\n",
       "    <tr>\n",
       "      <th>536320</th>\n",
       "      <td>536585</td>\n",
       "      <td>2018-12-01</td>\n",
       "      <td>37449</td>\n",
       "      <td>Ceramic Cake Stand + Hanging Cakes</td>\n",
       "      <td>20.45</td>\n",
       "      <td>2</td>\n",
       "      <td>17460</td>\n",
       "      <td>United Kingdom</td>\n",
       "    </tr>\n",
       "    <tr>\n",
       "      <th>536321</th>\n",
       "      <td>536590</td>\n",
       "      <td>2018-12-01</td>\n",
       "      <td>22776</td>\n",
       "      <td>Sweetheart 3 Tier Cake Stand</td>\n",
       "      <td>20.45</td>\n",
       "      <td>1</td>\n",
       "      <td>13065</td>\n",
       "      <td>United Kingdom</td>\n",
       "    </tr>\n",
       "    <tr>\n",
       "      <th>536322</th>\n",
       "      <td>536590</td>\n",
       "      <td>2018-12-01</td>\n",
       "      <td>22622</td>\n",
       "      <td>Box Of Vintage Alphabet Blocks</td>\n",
       "      <td>20.45</td>\n",
       "      <td>2</td>\n",
       "      <td>13065</td>\n",
       "      <td>United Kingdom</td>\n",
       "    </tr>\n",
       "    <tr>\n",
       "      <th>536323</th>\n",
       "      <td>536591</td>\n",
       "      <td>2018-12-01</td>\n",
       "      <td>37449</td>\n",
       "      <td>Ceramic Cake Stand + Hanging Cakes</td>\n",
       "      <td>20.45</td>\n",
       "      <td>1</td>\n",
       "      <td>14606</td>\n",
       "      <td>United Kingdom</td>\n",
       "    </tr>\n",
       "    <tr>\n",
       "      <th>536324</th>\n",
       "      <td>536597</td>\n",
       "      <td>2018-12-01</td>\n",
       "      <td>22220</td>\n",
       "      <td>Cake Stand Lovebird 2 Tier White</td>\n",
       "      <td>20.45</td>\n",
       "      <td>1</td>\n",
       "      <td>18011</td>\n",
       "      <td>United Kingdom</td>\n",
       "    </tr>\n",
       "  </tbody>\n",
       "</table>\n",
       "<p>527764 rows × 8 columns</p>\n",
       "</div>"
      ],
      "text/plain": [
       "       TransactionNo       Date ProductNo  \\\n",
       "0             581482 2019-12-09     22485   \n",
       "1             581475 2019-12-09     22596   \n",
       "2             581475 2019-12-09     23235   \n",
       "3             581475 2019-12-09     23272   \n",
       "4             581475 2019-12-09     23239   \n",
       "...              ...        ...       ...   \n",
       "536320        536585 2018-12-01     37449   \n",
       "536321        536590 2018-12-01     22776   \n",
       "536322        536590 2018-12-01     22622   \n",
       "536323        536591 2018-12-01     37449   \n",
       "536324        536597 2018-12-01     22220   \n",
       "\n",
       "                                ProductName  Price  Quantity CustomerNo  \\\n",
       "0             Set Of 2 Wooden Market Crates  21.47        12      17490   \n",
       "1       Christmas Star Wish List Chalkboard  10.65        36      13069   \n",
       "2                  Storage Tin Vintage Leaf  11.53        12      13069   \n",
       "3         Tree T-Light Holder Willie Winkie  10.65        12      13069   \n",
       "4         Set Of 4 Knick Knack Tins Poppies  11.94         6      13069   \n",
       "...                                     ...    ...       ...        ...   \n",
       "536320   Ceramic Cake Stand + Hanging Cakes  20.45         2      17460   \n",
       "536321         Sweetheart 3 Tier Cake Stand  20.45         1      13065   \n",
       "536322       Box Of Vintage Alphabet Blocks  20.45         2      13065   \n",
       "536323   Ceramic Cake Stand + Hanging Cakes  20.45         1      14606   \n",
       "536324     Cake Stand Lovebird 2 Tier White  20.45         1      18011   \n",
       "\n",
       "               Country  \n",
       "0       United Kingdom  \n",
       "1       United Kingdom  \n",
       "2       United Kingdom  \n",
       "3       United Kingdom  \n",
       "4       United Kingdom  \n",
       "...                ...  \n",
       "536320  United Kingdom  \n",
       "536321  United Kingdom  \n",
       "536322  United Kingdom  \n",
       "536323  United Kingdom  \n",
       "536324  United Kingdom  \n",
       "\n",
       "[527764 rows x 8 columns]"
      ]
     },
     "execution_count": 12,
     "metadata": {},
     "output_type": "execute_result"
    }
   ],
   "source": [
    "df_transaction"
   ]
  },
  {
   "cell_type": "code",
   "execution_count": 13,
   "metadata": {},
   "outputs": [
    {
     "data": {
      "text/html": [
       "<div>\n",
       "<style scoped>\n",
       "    .dataframe tbody tr th:only-of-type {\n",
       "        vertical-align: middle;\n",
       "    }\n",
       "\n",
       "    .dataframe tbody tr th {\n",
       "        vertical-align: top;\n",
       "    }\n",
       "\n",
       "    .dataframe thead th {\n",
       "        text-align: right;\n",
       "    }\n",
       "</style>\n",
       "<table border=\"1\" class=\"dataframe\">\n",
       "  <thead>\n",
       "    <tr style=\"text-align: right;\">\n",
       "      <th></th>\n",
       "      <th>TransactionNo</th>\n",
       "      <th>Date</th>\n",
       "      <th>ProductNo</th>\n",
       "      <th>ProductName</th>\n",
       "      <th>Price</th>\n",
       "      <th>Quantity</th>\n",
       "      <th>CustomerNo</th>\n",
       "      <th>Country</th>\n",
       "    </tr>\n",
       "  </thead>\n",
       "  <tbody>\n",
       "    <tr>\n",
       "      <th>1616</th>\n",
       "      <td>C581484</td>\n",
       "      <td>2019-12-09</td>\n",
       "      <td>23843</td>\n",
       "      <td>Paper Craft Little Birdie</td>\n",
       "      <td>6.19</td>\n",
       "      <td>-80995</td>\n",
       "      <td>16446</td>\n",
       "      <td>United Kingdom</td>\n",
       "    </tr>\n",
       "    <tr>\n",
       "      <th>1617</th>\n",
       "      <td>C581490</td>\n",
       "      <td>2019-12-09</td>\n",
       "      <td>22178</td>\n",
       "      <td>Victorian Glass Hanging T-Light</td>\n",
       "      <td>6.19</td>\n",
       "      <td>-12</td>\n",
       "      <td>14397</td>\n",
       "      <td>United Kingdom</td>\n",
       "    </tr>\n",
       "    <tr>\n",
       "      <th>1618</th>\n",
       "      <td>C581490</td>\n",
       "      <td>2019-12-09</td>\n",
       "      <td>23144</td>\n",
       "      <td>Zinc T-Light Holder Stars Small</td>\n",
       "      <td>6.04</td>\n",
       "      <td>-11</td>\n",
       "      <td>14397</td>\n",
       "      <td>United Kingdom</td>\n",
       "    </tr>\n",
       "    <tr>\n",
       "      <th>1619</th>\n",
       "      <td>C581568</td>\n",
       "      <td>2019-12-09</td>\n",
       "      <td>21258</td>\n",
       "      <td>Victorian Sewing Box Large</td>\n",
       "      <td>6.19</td>\n",
       "      <td>-5</td>\n",
       "      <td>15311</td>\n",
       "      <td>United Kingdom</td>\n",
       "    </tr>\n",
       "    <tr>\n",
       "      <th>1620</th>\n",
       "      <td>C581569</td>\n",
       "      <td>2019-12-09</td>\n",
       "      <td>84978</td>\n",
       "      <td>Hanging Heart Jar T-Light Holder</td>\n",
       "      <td>6.19</td>\n",
       "      <td>-1</td>\n",
       "      <td>17315</td>\n",
       "      <td>United Kingdom</td>\n",
       "    </tr>\n",
       "    <tr>\n",
       "      <th>...</th>\n",
       "      <td>...</td>\n",
       "      <td>...</td>\n",
       "      <td>...</td>\n",
       "      <td>...</td>\n",
       "      <td>...</td>\n",
       "      <td>...</td>\n",
       "      <td>...</td>\n",
       "      <td>...</td>\n",
       "    </tr>\n",
       "    <tr>\n",
       "      <th>536345</th>\n",
       "      <td>C536548</td>\n",
       "      <td>2018-12-01</td>\n",
       "      <td>22168</td>\n",
       "      <td>Organiser Wood Antique White</td>\n",
       "      <td>18.96</td>\n",
       "      <td>-2</td>\n",
       "      <td>12472</td>\n",
       "      <td>Germany</td>\n",
       "    </tr>\n",
       "    <tr>\n",
       "      <th>536346</th>\n",
       "      <td>C536548</td>\n",
       "      <td>2018-12-01</td>\n",
       "      <td>21218</td>\n",
       "      <td>Red Spotty Biscuit Tin</td>\n",
       "      <td>14.09</td>\n",
       "      <td>-3</td>\n",
       "      <td>12472</td>\n",
       "      <td>Germany</td>\n",
       "    </tr>\n",
       "    <tr>\n",
       "      <th>536347</th>\n",
       "      <td>C536548</td>\n",
       "      <td>2018-12-01</td>\n",
       "      <td>20957</td>\n",
       "      <td>Porcelain Hanging Bell Small</td>\n",
       "      <td>11.74</td>\n",
       "      <td>-1</td>\n",
       "      <td>12472</td>\n",
       "      <td>Germany</td>\n",
       "    </tr>\n",
       "    <tr>\n",
       "      <th>536348</th>\n",
       "      <td>C536548</td>\n",
       "      <td>2018-12-01</td>\n",
       "      <td>22580</td>\n",
       "      <td>Advent Calendar Gingham Sack</td>\n",
       "      <td>16.35</td>\n",
       "      <td>-4</td>\n",
       "      <td>12472</td>\n",
       "      <td>Germany</td>\n",
       "    </tr>\n",
       "    <tr>\n",
       "      <th>536349</th>\n",
       "      <td>C536548</td>\n",
       "      <td>2018-12-01</td>\n",
       "      <td>22767</td>\n",
       "      <td>Triple Photo Frame Cornice</td>\n",
       "      <td>20.45</td>\n",
       "      <td>-2</td>\n",
       "      <td>12472</td>\n",
       "      <td>Germany</td>\n",
       "    </tr>\n",
       "  </tbody>\n",
       "</table>\n",
       "<p>8531 rows × 8 columns</p>\n",
       "</div>"
      ],
      "text/plain": [
       "       TransactionNo       Date ProductNo                       ProductName  \\\n",
       "1616         C581484 2019-12-09     23843         Paper Craft Little Birdie   \n",
       "1617         C581490 2019-12-09     22178   Victorian Glass Hanging T-Light   \n",
       "1618         C581490 2019-12-09     23144   Zinc T-Light Holder Stars Small   \n",
       "1619         C581568 2019-12-09     21258        Victorian Sewing Box Large   \n",
       "1620         C581569 2019-12-09     84978  Hanging Heart Jar T-Light Holder   \n",
       "...              ...        ...       ...                               ...   \n",
       "536345       C536548 2018-12-01     22168      Organiser Wood Antique White   \n",
       "536346       C536548 2018-12-01     21218            Red Spotty Biscuit Tin   \n",
       "536347       C536548 2018-12-01     20957      Porcelain Hanging Bell Small   \n",
       "536348       C536548 2018-12-01     22580      Advent Calendar Gingham Sack   \n",
       "536349       C536548 2018-12-01     22767        Triple Photo Frame Cornice   \n",
       "\n",
       "        Price  Quantity CustomerNo         Country  \n",
       "1616     6.19    -80995      16446  United Kingdom  \n",
       "1617     6.19       -12      14397  United Kingdom  \n",
       "1618     6.04       -11      14397  United Kingdom  \n",
       "1619     6.19        -5      15311  United Kingdom  \n",
       "1620     6.19        -1      17315  United Kingdom  \n",
       "...       ...       ...        ...             ...  \n",
       "536345  18.96        -2      12472         Germany  \n",
       "536346  14.09        -3      12472         Germany  \n",
       "536347  11.74        -1      12472         Germany  \n",
       "536348  16.35        -4      12472         Germany  \n",
       "536349  20.45        -2      12472         Germany  \n",
       "\n",
       "[8531 rows x 8 columns]"
      ]
     },
     "execution_count": 13,
     "metadata": {},
     "output_type": "execute_result"
    }
   ],
   "source": [
    "df_cancel"
   ]
  },
  {
   "cell_type": "markdown",
   "metadata": {},
   "source": [
    "# Exploratory Data"
   ]
  },
  {
   "cell_type": "code",
   "execution_count": 14,
   "metadata": {},
   "outputs": [
    {
     "name": "stdout",
     "output_type": "stream",
     "text": [
      "TransactionNo object\n",
      "['581482' '581475' '581476' ... '536374' '536393' '536585']\n",
      "\n",
      "Date datetime64[ns]\n",
      "['2019-12-09T00:00:00.000000000' '2019-12-08T00:00:00.000000000'\n",
      " '2019-12-07T00:00:00.000000000' '2019-12-06T00:00:00.000000000'\n",
      " '2019-12-05T00:00:00.000000000' '2019-12-04T00:00:00.000000000'\n",
      " '2019-12-02T00:00:00.000000000' '2019-12-01T00:00:00.000000000'\n",
      " '2019-11-30T00:00:00.000000000' '2019-11-29T00:00:00.000000000'\n",
      " '2019-11-28T00:00:00.000000000' '2019-11-27T00:00:00.000000000'\n",
      " '2019-11-25T00:00:00.000000000' '2019-11-24T00:00:00.000000000'\n",
      " '2019-11-23T00:00:00.000000000' '2019-11-22T00:00:00.000000000'\n",
      " '2019-11-21T00:00:00.000000000' '2019-11-20T00:00:00.000000000'\n",
      " '2019-11-18T00:00:00.000000000' '2019-11-17T00:00:00.000000000'\n",
      " '2019-11-16T00:00:00.000000000' '2019-11-15T00:00:00.000000000'\n",
      " '2019-11-14T00:00:00.000000000' '2019-11-13T00:00:00.000000000'\n",
      " '2019-11-11T00:00:00.000000000' '2019-11-10T00:00:00.000000000'\n",
      " '2019-11-09T00:00:00.000000000' '2019-11-08T00:00:00.000000000'\n",
      " '2019-11-07T00:00:00.000000000' '2019-11-06T00:00:00.000000000'\n",
      " '2019-11-04T00:00:00.000000000' '2019-11-03T00:00:00.000000000'\n",
      " '2019-11-02T00:00:00.000000000' '2019-11-01T00:00:00.000000000'\n",
      " '2019-10-31T00:00:00.000000000' '2019-10-30T00:00:00.000000000'\n",
      " '2019-10-28T00:00:00.000000000' '2019-10-27T00:00:00.000000000'\n",
      " '2019-10-26T00:00:00.000000000' '2019-10-25T00:00:00.000000000'\n",
      " '2019-10-24T00:00:00.000000000' '2019-10-23T00:00:00.000000000'\n",
      " '2019-10-21T00:00:00.000000000' '2019-10-20T00:00:00.000000000'\n",
      " '2019-10-19T00:00:00.000000000' '2019-10-18T00:00:00.000000000'\n",
      " '2019-10-17T00:00:00.000000000' '2019-10-16T00:00:00.000000000'\n",
      " '2019-10-14T00:00:00.000000000' '2019-10-13T00:00:00.000000000'\n",
      " '2019-10-12T00:00:00.000000000' '2019-10-11T00:00:00.000000000'\n",
      " '2019-10-10T00:00:00.000000000' '2019-10-09T00:00:00.000000000'\n",
      " '2019-10-07T00:00:00.000000000' '2019-10-06T00:00:00.000000000'\n",
      " '2019-10-05T00:00:00.000000000' '2019-10-04T00:00:00.000000000'\n",
      " '2019-10-03T00:00:00.000000000' '2019-10-02T00:00:00.000000000'\n",
      " '2019-09-30T00:00:00.000000000' '2019-09-29T00:00:00.000000000'\n",
      " '2019-09-28T00:00:00.000000000' '2019-09-27T00:00:00.000000000'\n",
      " '2019-09-26T00:00:00.000000000' '2019-09-25T00:00:00.000000000'\n",
      " '2019-09-23T00:00:00.000000000' '2019-09-22T00:00:00.000000000'\n",
      " '2019-09-21T00:00:00.000000000' '2019-09-20T00:00:00.000000000'\n",
      " '2019-09-19T00:00:00.000000000' '2019-09-18T00:00:00.000000000'\n",
      " '2019-09-16T00:00:00.000000000' '2019-09-15T00:00:00.000000000'\n",
      " '2019-09-14T00:00:00.000000000' '2019-09-13T00:00:00.000000000'\n",
      " '2019-09-12T00:00:00.000000000' '2019-09-11T00:00:00.000000000'\n",
      " '2019-09-09T00:00:00.000000000' '2019-09-08T00:00:00.000000000'\n",
      " '2019-09-07T00:00:00.000000000' '2019-09-06T00:00:00.000000000'\n",
      " '2019-09-05T00:00:00.000000000' '2019-09-04T00:00:00.000000000'\n",
      " '2019-09-02T00:00:00.000000000' '2019-09-01T00:00:00.000000000'\n",
      " '2019-08-31T00:00:00.000000000' '2019-08-30T00:00:00.000000000'\n",
      " '2019-08-28T00:00:00.000000000' '2019-08-26T00:00:00.000000000'\n",
      " '2019-08-25T00:00:00.000000000' '2019-08-24T00:00:00.000000000'\n",
      " '2019-08-23T00:00:00.000000000' '2019-08-22T00:00:00.000000000'\n",
      " '2019-08-21T00:00:00.000000000' '2019-08-19T00:00:00.000000000'\n",
      " '2019-08-18T00:00:00.000000000' '2019-08-17T00:00:00.000000000'\n",
      " '2019-08-16T00:00:00.000000000' '2019-08-15T00:00:00.000000000'\n",
      " '2019-08-14T00:00:00.000000000' '2019-08-12T00:00:00.000000000'\n",
      " '2019-08-11T00:00:00.000000000' '2019-08-10T00:00:00.000000000'\n",
      " '2019-08-09T00:00:00.000000000' '2019-08-08T00:00:00.000000000'\n",
      " '2019-08-07T00:00:00.000000000' '2019-08-05T00:00:00.000000000'\n",
      " '2019-08-04T00:00:00.000000000' '2019-08-03T00:00:00.000000000'\n",
      " '2019-08-02T00:00:00.000000000' '2019-08-01T00:00:00.000000000'\n",
      " '2019-07-31T00:00:00.000000000' '2019-07-29T00:00:00.000000000'\n",
      " '2019-07-28T00:00:00.000000000' '2019-07-27T00:00:00.000000000'\n",
      " '2019-07-26T00:00:00.000000000' '2019-07-25T00:00:00.000000000'\n",
      " '2019-07-24T00:00:00.000000000' '2019-07-22T00:00:00.000000000'\n",
      " '2019-07-21T00:00:00.000000000' '2019-07-20T00:00:00.000000000'\n",
      " '2019-07-19T00:00:00.000000000' '2019-07-18T00:00:00.000000000'\n",
      " '2019-07-17T00:00:00.000000000' '2019-07-15T00:00:00.000000000'\n",
      " '2019-07-14T00:00:00.000000000' '2019-07-13T00:00:00.000000000'\n",
      " '2019-07-12T00:00:00.000000000' '2019-07-11T00:00:00.000000000'\n",
      " '2019-07-10T00:00:00.000000000' '2019-07-08T00:00:00.000000000'\n",
      " '2019-07-07T00:00:00.000000000' '2019-07-06T00:00:00.000000000'\n",
      " '2019-07-05T00:00:00.000000000' '2019-07-04T00:00:00.000000000'\n",
      " '2019-07-03T00:00:00.000000000' '2019-07-01T00:00:00.000000000'\n",
      " '2019-06-30T00:00:00.000000000' '2019-06-29T00:00:00.000000000'\n",
      " '2019-06-28T00:00:00.000000000' '2019-06-27T00:00:00.000000000'\n",
      " '2019-06-26T00:00:00.000000000' '2019-06-24T00:00:00.000000000'\n",
      " '2019-06-23T00:00:00.000000000' '2019-06-22T00:00:00.000000000'\n",
      " '2019-06-21T00:00:00.000000000' '2019-06-20T00:00:00.000000000'\n",
      " '2019-06-19T00:00:00.000000000' '2019-06-17T00:00:00.000000000'\n",
      " '2019-06-16T00:00:00.000000000' '2019-06-15T00:00:00.000000000'\n",
      " '2019-06-14T00:00:00.000000000' '2019-06-13T00:00:00.000000000'\n",
      " '2019-06-12T00:00:00.000000000' '2019-06-10T00:00:00.000000000'\n",
      " '2019-06-09T00:00:00.000000000' '2019-06-08T00:00:00.000000000'\n",
      " '2019-06-07T00:00:00.000000000' '2019-06-06T00:00:00.000000000'\n",
      " '2019-06-05T00:00:00.000000000' '2019-06-03T00:00:00.000000000'\n",
      " '2019-06-02T00:00:00.000000000' '2019-06-01T00:00:00.000000000'\n",
      " '2019-05-31T00:00:00.000000000' '2019-05-29T00:00:00.000000000'\n",
      " '2019-05-27T00:00:00.000000000' '2019-05-26T00:00:00.000000000'\n",
      " '2019-05-25T00:00:00.000000000' '2019-05-24T00:00:00.000000000'\n",
      " '2019-05-23T00:00:00.000000000' '2019-05-22T00:00:00.000000000'\n",
      " '2019-05-20T00:00:00.000000000' '2019-05-19T00:00:00.000000000'\n",
      " '2019-05-18T00:00:00.000000000' '2019-05-17T00:00:00.000000000'\n",
      " '2019-05-16T00:00:00.000000000' '2019-05-15T00:00:00.000000000'\n",
      " '2019-05-13T00:00:00.000000000' '2019-05-12T00:00:00.000000000'\n",
      " '2019-05-11T00:00:00.000000000' '2019-05-10T00:00:00.000000000'\n",
      " '2019-05-09T00:00:00.000000000' '2019-05-08T00:00:00.000000000'\n",
      " '2019-05-06T00:00:00.000000000' '2019-05-05T00:00:00.000000000'\n",
      " '2019-05-04T00:00:00.000000000' '2019-05-03T00:00:00.000000000'\n",
      " '2019-05-01T00:00:00.000000000' '2019-04-28T00:00:00.000000000'\n",
      " '2019-04-27T00:00:00.000000000' '2019-04-26T00:00:00.000000000'\n",
      " '2019-04-21T00:00:00.000000000' '2019-04-20T00:00:00.000000000'\n",
      " '2019-04-19T00:00:00.000000000' '2019-04-18T00:00:00.000000000'\n",
      " '2019-04-17T00:00:00.000000000' '2019-04-15T00:00:00.000000000'\n",
      " '2019-04-14T00:00:00.000000000' '2019-04-13T00:00:00.000000000'\n",
      " '2019-04-12T00:00:00.000000000' '2019-04-11T00:00:00.000000000'\n",
      " '2019-04-10T00:00:00.000000000' '2019-04-08T00:00:00.000000000'\n",
      " '2019-04-07T00:00:00.000000000' '2019-04-06T00:00:00.000000000'\n",
      " '2019-04-05T00:00:00.000000000' '2019-04-04T00:00:00.000000000'\n",
      " '2019-04-03T00:00:00.000000000' '2019-04-01T00:00:00.000000000'\n",
      " '2019-03-31T00:00:00.000000000' '2019-03-30T00:00:00.000000000'\n",
      " '2019-03-29T00:00:00.000000000' '2019-03-28T00:00:00.000000000'\n",
      " '2019-03-27T00:00:00.000000000' '2019-03-25T00:00:00.000000000'\n",
      " '2019-03-24T00:00:00.000000000' '2019-03-23T00:00:00.000000000'\n",
      " '2019-03-22T00:00:00.000000000' '2019-03-21T00:00:00.000000000'\n",
      " '2019-03-20T00:00:00.000000000' '2019-03-18T00:00:00.000000000'\n",
      " '2019-03-17T00:00:00.000000000' '2019-03-16T00:00:00.000000000'\n",
      " '2019-03-15T00:00:00.000000000' '2019-03-14T00:00:00.000000000'\n",
      " '2019-03-13T00:00:00.000000000' '2019-03-11T00:00:00.000000000'\n",
      " '2019-03-10T00:00:00.000000000' '2019-03-09T00:00:00.000000000'\n",
      " '2019-03-08T00:00:00.000000000' '2019-03-07T00:00:00.000000000'\n",
      " '2019-03-06T00:00:00.000000000' '2019-03-04T00:00:00.000000000'\n",
      " '2019-03-03T00:00:00.000000000' '2019-03-02T00:00:00.000000000'\n",
      " '2019-03-01T00:00:00.000000000' '2019-02-28T00:00:00.000000000'\n",
      " '2019-02-27T00:00:00.000000000' '2019-02-25T00:00:00.000000000'\n",
      " '2019-02-24T00:00:00.000000000' '2019-02-23T00:00:00.000000000'\n",
      " '2019-02-22T00:00:00.000000000' '2019-02-21T00:00:00.000000000'\n",
      " '2019-02-20T00:00:00.000000000' '2019-02-18T00:00:00.000000000'\n",
      " '2019-02-17T00:00:00.000000000' '2019-02-16T00:00:00.000000000'\n",
      " '2019-02-15T00:00:00.000000000' '2019-02-14T00:00:00.000000000'\n",
      " '2019-02-13T00:00:00.000000000' '2019-02-11T00:00:00.000000000'\n",
      " '2019-02-10T00:00:00.000000000' '2019-02-09T00:00:00.000000000'\n",
      " '2019-02-08T00:00:00.000000000' '2019-02-07T00:00:00.000000000'\n",
      " '2019-02-06T00:00:00.000000000' '2019-02-04T00:00:00.000000000'\n",
      " '2019-02-03T00:00:00.000000000' '2019-02-02T00:00:00.000000000'\n",
      " '2019-02-01T00:00:00.000000000' '2019-01-31T00:00:00.000000000'\n",
      " '2019-01-30T00:00:00.000000000' '2019-01-28T00:00:00.000000000'\n",
      " '2019-01-27T00:00:00.000000000' '2019-01-26T00:00:00.000000000'\n",
      " '2019-01-25T00:00:00.000000000' '2019-01-24T00:00:00.000000000'\n",
      " '2019-01-23T00:00:00.000000000' '2019-01-21T00:00:00.000000000'\n",
      " '2019-01-20T00:00:00.000000000' '2019-01-19T00:00:00.000000000'\n",
      " '2019-01-18T00:00:00.000000000' '2019-01-17T00:00:00.000000000'\n",
      " '2019-01-16T00:00:00.000000000' '2019-01-14T00:00:00.000000000'\n",
      " '2019-01-13T00:00:00.000000000' '2019-01-12T00:00:00.000000000'\n",
      " '2019-01-11T00:00:00.000000000' '2019-01-10T00:00:00.000000000'\n",
      " '2019-01-09T00:00:00.000000000' '2019-01-07T00:00:00.000000000'\n",
      " '2019-01-06T00:00:00.000000000' '2019-01-05T00:00:00.000000000'\n",
      " '2019-01-04T00:00:00.000000000' '2018-12-23T00:00:00.000000000'\n",
      " '2018-12-22T00:00:00.000000000' '2018-12-21T00:00:00.000000000'\n",
      " '2018-12-20T00:00:00.000000000' '2018-12-19T00:00:00.000000000'\n",
      " '2018-12-17T00:00:00.000000000' '2018-12-16T00:00:00.000000000'\n",
      " '2018-12-15T00:00:00.000000000' '2018-12-14T00:00:00.000000000'\n",
      " '2018-12-13T00:00:00.000000000' '2018-12-12T00:00:00.000000000'\n",
      " '2018-12-10T00:00:00.000000000' '2018-12-09T00:00:00.000000000'\n",
      " '2018-12-08T00:00:00.000000000' '2018-12-07T00:00:00.000000000'\n",
      " '2018-12-06T00:00:00.000000000' '2018-12-05T00:00:00.000000000'\n",
      " '2018-12-03T00:00:00.000000000' '2018-12-02T00:00:00.000000000'\n",
      " '2018-12-01T00:00:00.000000000']\n",
      "\n",
      "ProductNo object\n",
      "['22485' '22596' '23235' ... '16161M' '84854' '82615']\n",
      "\n",
      "ProductName object\n"
     ]
    },
    {
     "name": "stdout",
     "output_type": "stream",
     "text": [
      "['Set Of 2 Wooden Market Crates' 'Christmas Star Wish List Chalkboard'\n",
      " 'Storage Tin Vintage Leaf' ... 'Wrap Pink Flock' 'Girly Pink Tool Set'\n",
      " 'Pink Marshmallow Scarf Knitting Kit']\n",
      "\n",
      "Price float64\n",
      "5.13 660.62\n",
      "\n",
      "Quantity int64\n",
      "1 80995\n",
      "\n",
      "CustomerNo object\n",
      "[17490 13069 12433 ... 13065 18011 17558]\n",
      "\n",
      "Country object\n",
      "['United Kingdom' 'Norway' 'Belgium' 'Germany' 'France' 'Austria'\n",
      " 'Netherlands' 'EIRE' 'Iceland' 'Portugal' 'Spain' 'Italy' 'Greece' 'USA'\n",
      " 'Channel Islands' 'Sweden' 'Denmark' 'Finland' 'Switzerland' 'Japan'\n",
      " 'Australia' 'Cyprus' 'Malta' 'Poland' 'Hong Kong' 'Singapore' 'RSA'\n",
      " 'Czech Republic' 'Israel' 'Unspecified' 'United Arab Emirates' 'Canada'\n",
      " 'European Community' 'Bahrain' 'Brazil' 'Saudi Arabia' 'Lebanon'\n",
      " 'Lithuania']\n",
      "\n"
     ]
    }
   ],
   "source": [
    "#cek data pada df_transaction\n",
    "for dtype, col in (list(zip(df_transaction.dtypes, df_transaction.columns))):\n",
    "  if dtype == 'int64' or dtype == 'float64':\n",
    "    print(col, dtype)\n",
    "    print(df_transaction[col].min(), df_transaction[col].max())\n",
    "  else:\n",
    "    print(col, dtype)\n",
    "    print(df_transaction[col].unique())\n",
    "\n",
    "  print()"
   ]
  },
  {
   "cell_type": "code",
   "execution_count": 15,
   "metadata": {},
   "outputs": [
    {
     "name": "stdout",
     "output_type": "stream",
     "text": [
      "TransactionNo object\n",
      "['C581484' 'C581490' 'C581568' ... 'C536506' 'C536543' 'C536548']\n",
      "\n",
      "Date datetime64[ns]\n",
      "['2019-12-09T00:00:00.000000000' '2019-12-08T00:00:00.000000000'\n",
      " '2019-12-07T00:00:00.000000000' '2019-12-06T00:00:00.000000000'\n",
      " '2019-12-05T00:00:00.000000000' '2019-12-04T00:00:00.000000000'\n",
      " '2019-12-02T00:00:00.000000000' '2019-12-01T00:00:00.000000000'\n",
      " '2019-11-30T00:00:00.000000000' '2019-11-29T00:00:00.000000000'\n",
      " '2019-11-28T00:00:00.000000000' '2019-11-27T00:00:00.000000000'\n",
      " '2019-11-25T00:00:00.000000000' '2019-11-24T00:00:00.000000000'\n",
      " '2019-11-23T00:00:00.000000000' '2019-11-22T00:00:00.000000000'\n",
      " '2019-11-21T00:00:00.000000000' '2019-11-20T00:00:00.000000000'\n",
      " '2019-11-18T00:00:00.000000000' '2019-11-17T00:00:00.000000000'\n",
      " '2019-11-16T00:00:00.000000000' '2019-11-15T00:00:00.000000000'\n",
      " '2019-11-14T00:00:00.000000000' '2019-11-13T00:00:00.000000000'\n",
      " '2019-11-11T00:00:00.000000000' '2019-11-10T00:00:00.000000000'\n",
      " '2019-11-09T00:00:00.000000000' '2019-11-08T00:00:00.000000000'\n",
      " '2019-11-07T00:00:00.000000000' '2019-11-06T00:00:00.000000000'\n",
      " '2019-11-04T00:00:00.000000000' '2019-11-03T00:00:00.000000000'\n",
      " '2019-11-02T00:00:00.000000000' '2019-11-01T00:00:00.000000000'\n",
      " '2019-10-31T00:00:00.000000000' '2019-10-30T00:00:00.000000000'\n",
      " '2019-10-28T00:00:00.000000000' '2019-10-27T00:00:00.000000000'\n",
      " '2019-10-26T00:00:00.000000000' '2019-10-25T00:00:00.000000000'\n",
      " '2019-10-24T00:00:00.000000000' '2019-10-23T00:00:00.000000000'\n",
      " '2019-10-21T00:00:00.000000000' '2019-10-20T00:00:00.000000000'\n",
      " '2019-10-19T00:00:00.000000000' '2019-10-18T00:00:00.000000000'\n",
      " '2019-10-17T00:00:00.000000000' '2019-10-16T00:00:00.000000000'\n",
      " '2019-10-14T00:00:00.000000000' '2019-10-13T00:00:00.000000000'\n",
      " '2019-10-12T00:00:00.000000000' '2019-10-11T00:00:00.000000000'\n",
      " '2019-10-10T00:00:00.000000000' '2019-10-09T00:00:00.000000000'\n",
      " '2019-10-07T00:00:00.000000000' '2019-10-06T00:00:00.000000000'\n",
      " '2019-10-05T00:00:00.000000000' '2019-10-04T00:00:00.000000000'\n",
      " '2019-10-03T00:00:00.000000000' '2019-10-02T00:00:00.000000000'\n",
      " '2019-09-30T00:00:00.000000000' '2019-09-29T00:00:00.000000000'\n",
      " '2019-09-28T00:00:00.000000000' '2019-09-27T00:00:00.000000000'\n",
      " '2019-09-26T00:00:00.000000000' '2019-09-25T00:00:00.000000000'\n",
      " '2019-09-23T00:00:00.000000000' '2019-09-22T00:00:00.000000000'\n",
      " '2019-09-21T00:00:00.000000000' '2019-09-20T00:00:00.000000000'\n",
      " '2019-09-19T00:00:00.000000000' '2019-09-18T00:00:00.000000000'\n",
      " '2019-09-16T00:00:00.000000000' '2019-09-15T00:00:00.000000000'\n",
      " '2019-09-14T00:00:00.000000000' '2019-09-13T00:00:00.000000000'\n",
      " '2019-09-12T00:00:00.000000000' '2019-09-11T00:00:00.000000000'\n",
      " '2019-09-09T00:00:00.000000000' '2019-09-08T00:00:00.000000000'\n",
      " '2019-09-07T00:00:00.000000000' '2019-09-06T00:00:00.000000000'\n",
      " '2019-09-05T00:00:00.000000000' '2019-09-04T00:00:00.000000000'\n",
      " '2019-09-02T00:00:00.000000000' '2019-09-01T00:00:00.000000000'\n",
      " '2019-08-31T00:00:00.000000000' '2019-08-30T00:00:00.000000000'\n",
      " '2019-08-28T00:00:00.000000000' '2019-08-26T00:00:00.000000000'\n",
      " '2019-08-25T00:00:00.000000000' '2019-08-24T00:00:00.000000000'\n",
      " '2019-08-23T00:00:00.000000000' '2019-08-22T00:00:00.000000000'\n",
      " '2019-08-21T00:00:00.000000000' '2019-08-19T00:00:00.000000000'\n",
      " '2019-08-18T00:00:00.000000000' '2019-08-17T00:00:00.000000000'\n",
      " '2019-08-16T00:00:00.000000000' '2019-08-15T00:00:00.000000000'\n",
      " '2019-08-14T00:00:00.000000000' '2019-08-12T00:00:00.000000000'\n",
      " '2019-08-11T00:00:00.000000000' '2019-08-10T00:00:00.000000000'\n",
      " '2019-08-09T00:00:00.000000000' '2019-08-08T00:00:00.000000000'\n",
      " '2019-08-07T00:00:00.000000000' '2019-08-05T00:00:00.000000000'\n",
      " '2019-08-04T00:00:00.000000000' '2019-08-03T00:00:00.000000000'\n",
      " '2019-08-02T00:00:00.000000000' '2019-08-01T00:00:00.000000000'\n",
      " '2019-07-31T00:00:00.000000000' '2019-07-29T00:00:00.000000000'\n",
      " '2019-07-28T00:00:00.000000000' '2019-07-27T00:00:00.000000000'\n",
      " '2019-07-26T00:00:00.000000000' '2019-07-25T00:00:00.000000000'\n",
      " '2019-07-24T00:00:00.000000000' '2019-07-22T00:00:00.000000000'\n",
      " '2019-07-21T00:00:00.000000000' '2019-07-20T00:00:00.000000000'\n",
      " '2019-07-19T00:00:00.000000000' '2019-07-18T00:00:00.000000000'\n",
      " '2019-07-17T00:00:00.000000000' '2019-07-15T00:00:00.000000000'\n",
      " '2019-07-14T00:00:00.000000000' '2019-07-13T00:00:00.000000000'\n",
      " '2019-07-12T00:00:00.000000000' '2019-07-11T00:00:00.000000000'\n",
      " '2019-07-10T00:00:00.000000000' '2019-07-08T00:00:00.000000000'\n",
      " '2019-07-07T00:00:00.000000000' '2019-07-06T00:00:00.000000000'\n",
      " '2019-07-05T00:00:00.000000000' '2019-07-04T00:00:00.000000000'\n",
      " '2019-07-03T00:00:00.000000000' '2019-07-01T00:00:00.000000000'\n",
      " '2019-06-30T00:00:00.000000000' '2019-06-29T00:00:00.000000000'\n",
      " '2019-06-28T00:00:00.000000000' '2019-06-27T00:00:00.000000000'\n",
      " '2019-06-26T00:00:00.000000000' '2019-06-24T00:00:00.000000000'\n",
      " '2019-06-23T00:00:00.000000000' '2019-06-22T00:00:00.000000000'\n",
      " '2019-06-21T00:00:00.000000000' '2019-06-20T00:00:00.000000000'\n",
      " '2019-06-19T00:00:00.000000000' '2019-06-17T00:00:00.000000000'\n",
      " '2019-06-16T00:00:00.000000000' '2019-06-15T00:00:00.000000000'\n",
      " '2019-06-14T00:00:00.000000000' '2019-06-13T00:00:00.000000000'\n",
      " '2019-06-12T00:00:00.000000000' '2019-06-10T00:00:00.000000000'\n",
      " '2019-06-09T00:00:00.000000000' '2019-06-08T00:00:00.000000000'\n",
      " '2019-06-07T00:00:00.000000000' '2019-06-06T00:00:00.000000000'\n",
      " '2019-06-05T00:00:00.000000000' '2019-06-03T00:00:00.000000000'\n",
      " '2019-06-02T00:00:00.000000000' '2019-06-01T00:00:00.000000000'\n",
      " '2019-05-31T00:00:00.000000000' '2019-05-29T00:00:00.000000000'\n",
      " '2019-05-27T00:00:00.000000000' '2019-05-26T00:00:00.000000000'\n",
      " '2019-05-25T00:00:00.000000000' '2019-05-24T00:00:00.000000000'\n",
      " '2019-05-23T00:00:00.000000000' '2019-05-22T00:00:00.000000000'\n",
      " '2019-05-20T00:00:00.000000000' '2019-05-19T00:00:00.000000000'\n",
      " '2019-05-18T00:00:00.000000000' '2019-05-17T00:00:00.000000000'\n",
      " '2019-05-16T00:00:00.000000000' '2019-05-13T00:00:00.000000000'\n",
      " '2019-05-12T00:00:00.000000000' '2019-05-11T00:00:00.000000000'\n",
      " '2019-05-10T00:00:00.000000000' '2019-05-09T00:00:00.000000000'\n",
      " '2019-05-08T00:00:00.000000000' '2019-05-06T00:00:00.000000000'\n",
      " '2019-05-05T00:00:00.000000000' '2019-05-04T00:00:00.000000000'\n",
      " '2019-05-03T00:00:00.000000000' '2019-05-01T00:00:00.000000000'\n",
      " '2019-04-28T00:00:00.000000000' '2019-04-27T00:00:00.000000000'\n",
      " '2019-04-26T00:00:00.000000000' '2019-04-21T00:00:00.000000000'\n",
      " '2019-04-20T00:00:00.000000000' '2019-04-19T00:00:00.000000000'\n",
      " '2019-04-18T00:00:00.000000000' '2019-04-17T00:00:00.000000000'\n",
      " '2019-04-15T00:00:00.000000000' '2019-04-14T00:00:00.000000000'\n",
      " '2019-04-13T00:00:00.000000000' '2019-04-12T00:00:00.000000000'\n",
      " '2019-04-11T00:00:00.000000000' '2019-04-10T00:00:00.000000000'\n",
      " '2019-04-08T00:00:00.000000000' '2019-04-07T00:00:00.000000000'\n",
      " '2019-04-06T00:00:00.000000000' '2019-04-05T00:00:00.000000000'\n",
      " '2019-04-04T00:00:00.000000000' '2019-04-03T00:00:00.000000000'\n",
      " '2019-04-01T00:00:00.000000000' '2019-03-31T00:00:00.000000000'\n",
      " '2019-03-30T00:00:00.000000000' '2019-03-29T00:00:00.000000000'\n",
      " '2019-03-28T00:00:00.000000000' '2019-03-27T00:00:00.000000000'\n",
      " '2019-03-25T00:00:00.000000000' '2019-03-24T00:00:00.000000000'\n",
      " '2019-03-23T00:00:00.000000000' '2019-03-22T00:00:00.000000000'\n",
      " '2019-03-21T00:00:00.000000000' '2019-03-20T00:00:00.000000000'\n",
      " '2019-03-18T00:00:00.000000000' '2019-03-17T00:00:00.000000000'\n",
      " '2019-03-16T00:00:00.000000000' '2019-03-15T00:00:00.000000000'\n",
      " '2019-03-14T00:00:00.000000000' '2019-03-13T00:00:00.000000000'\n",
      " '2019-03-11T00:00:00.000000000' '2019-03-10T00:00:00.000000000'\n",
      " '2019-03-09T00:00:00.000000000' '2019-03-08T00:00:00.000000000'\n",
      " '2019-03-07T00:00:00.000000000' '2019-03-06T00:00:00.000000000'\n",
      " '2019-03-04T00:00:00.000000000' '2019-03-03T00:00:00.000000000'\n",
      " '2019-03-02T00:00:00.000000000' '2019-03-01T00:00:00.000000000'\n",
      " '2019-02-28T00:00:00.000000000' '2019-02-27T00:00:00.000000000'\n",
      " '2019-02-25T00:00:00.000000000' '2019-02-24T00:00:00.000000000'\n",
      " '2019-02-23T00:00:00.000000000' '2019-02-22T00:00:00.000000000'\n",
      " '2019-02-21T00:00:00.000000000' '2019-02-20T00:00:00.000000000'\n",
      " '2019-02-18T00:00:00.000000000' '2019-02-17T00:00:00.000000000'\n",
      " '2019-02-16T00:00:00.000000000' '2019-02-15T00:00:00.000000000'\n",
      " '2019-02-14T00:00:00.000000000' '2019-02-13T00:00:00.000000000'\n",
      " '2019-02-11T00:00:00.000000000' '2019-02-10T00:00:00.000000000'\n",
      " '2019-02-08T00:00:00.000000000' '2019-02-07T00:00:00.000000000'\n",
      " '2019-02-04T00:00:00.000000000' '2019-02-03T00:00:00.000000000'\n",
      " '2019-02-02T00:00:00.000000000' '2019-02-01T00:00:00.000000000'\n",
      " '2019-01-31T00:00:00.000000000' '2019-01-30T00:00:00.000000000'\n",
      " '2019-01-28T00:00:00.000000000' '2019-01-27T00:00:00.000000000'\n",
      " '2019-01-26T00:00:00.000000000' '2019-01-25T00:00:00.000000000'\n",
      " '2019-01-24T00:00:00.000000000' '2019-01-23T00:00:00.000000000'\n",
      " '2019-01-21T00:00:00.000000000' '2019-01-20T00:00:00.000000000'\n",
      " '2019-01-19T00:00:00.000000000' '2019-01-18T00:00:00.000000000'\n",
      " '2019-01-17T00:00:00.000000000' '2019-01-16T00:00:00.000000000'\n",
      " '2019-01-14T00:00:00.000000000' '2019-01-13T00:00:00.000000000'\n",
      " '2019-01-12T00:00:00.000000000' '2019-01-11T00:00:00.000000000'\n",
      " '2019-01-10T00:00:00.000000000' '2019-01-09T00:00:00.000000000'\n",
      " '2019-01-07T00:00:00.000000000' '2019-01-06T00:00:00.000000000'\n",
      " '2019-01-05T00:00:00.000000000' '2019-01-04T00:00:00.000000000'\n",
      " '2018-12-23T00:00:00.000000000' '2018-12-22T00:00:00.000000000'\n",
      " '2018-12-21T00:00:00.000000000' '2018-12-20T00:00:00.000000000'\n",
      " '2018-12-19T00:00:00.000000000' '2018-12-17T00:00:00.000000000'\n",
      " '2018-12-16T00:00:00.000000000' '2018-12-15T00:00:00.000000000'\n",
      " '2018-12-14T00:00:00.000000000' '2018-12-13T00:00:00.000000000'\n",
      " '2018-12-12T00:00:00.000000000' '2018-12-10T00:00:00.000000000'\n",
      " '2018-12-09T00:00:00.000000000' '2018-12-08T00:00:00.000000000'\n",
      " '2018-12-07T00:00:00.000000000' '2018-12-06T00:00:00.000000000'\n",
      " '2018-12-05T00:00:00.000000000' '2018-12-03T00:00:00.000000000'\n",
      " '2018-12-02T00:00:00.000000000' '2018-12-01T00:00:00.000000000']\n",
      "\n",
      "ProductNo object\n",
      "['23843' '22178' '23144' ... '21984' '21983' '20957']\n",
      "\n",
      "ProductName object\n",
      "['Paper Craft Little Birdie' 'Victorian Glass Hanging T-Light'\n",
      " 'Zinc T-Light Holder Stars Small' ... 'Pack Of 12 Pink Paisley Tissues'\n",
      " 'Pack Of 12 Blue Paisley Tissues' 'Porcelain Hanging Bell Small']\n",
      "\n",
      "Price float64\n",
      "5.46 660.62\n",
      "\n",
      "Quantity int64\n",
      "-80995 -1\n",
      "\n",
      "CustomerNo object\n",
      "[16446 14397 15311 ... 15384 13295 17897]\n",
      "\n",
      "Country object\n",
      "['United Kingdom' 'USA' 'France' 'Channel Islands' 'Germany' 'Finland'\n",
      " 'Portugal' 'Spain' 'Japan' 'Sweden' 'Cyprus' 'Belgium' 'Malta' 'EIRE'\n",
      " 'Italy' 'Czech Republic' 'Australia' 'Denmark' 'Switzerland'\n",
      " 'Netherlands' 'Norway' 'Poland' 'Austria' 'European Community'\n",
      " 'Saudi Arabia']\n",
      "\n"
     ]
    }
   ],
   "source": [
    "#cek data pada df_cancel\n",
    "for dtype, col in (list(zip(df_cancel.dtypes, df_cancel.columns))):\n",
    "  if dtype == 'int64' or dtype == 'float64':\n",
    "    print(col, dtype)\n",
    "    print(df_cancel[col].min(), df_cancel[col].max())\n",
    "  else:\n",
    "    print(col, dtype)\n",
    "    print(df_cancel[col].unique())\n",
    "\n",
    "  print()"
   ]
  },
  {
   "cell_type": "markdown",
   "metadata": {},
   "source": [
    "#### Q1: Bagaimana tren penjualan tiap bulan?"
   ]
  },
  {
   "cell_type": "code",
   "execution_count": 16,
   "metadata": {},
   "outputs": [
    {
     "data": {
      "image/png": "[encoded data removed]",
      "text/plain": [
       "<Figure size 360x216 with 1 Axes>"
      ]
     },
     "metadata": {
      "needs_background": "light"
     },
     "output_type": "display_data"
    }
   ],
   "source": [
    "#ambil data bulan dan tahun saja pada df_transaction \n",
    "total_transaction = df_transaction['Date'].dt.strftime('%Y-%m').value_counts()\n",
    "total_transaction = total_transaction.sort_index(ascending=True)\n",
    "\n",
    "#membuat grafik total transaksi penjualan\n",
    "plt.figure(figsize=(5,3))\n",
    "plt.plot(total_transaction.index, total_transaction.values, color='blue')\n",
    "plt.xticks(rotation='vertical')\n",
    "plt.xlabel('Date')\n",
    "plt.title('Transaction')\n",
    "plt.show()"
   ]
  },
  {
   "cell_type": "markdown",
   "metadata": {},
   "source": [
    "- Berdasarkan grafik transaksi penjualan di atas, dapat dilihat bahwa grafik penjualan menunjukkan tren musiman yang mana dibulan tertentu akan sedikit transaksi dan di bulan lainya ada sangat banyak transaksi. Dilihat dari grafik, transaksi diakhir tahun lah yang menjadi puncak penjualan.\n",
    "- Grafik transaksi penjualan mencapai puncak tertingginya pada November 2019, dengan jumlah lebih dari 80.000 transaksi."
   ]
  },
  {
   "cell_type": "code",
   "execution_count": 17,
   "metadata": {},
   "outputs": [
    {
     "data": {
      "image/png": "[encoded data removed]",
      "text/plain": [
       "<Figure size 360x216 with 1 Axes>"
      ]
     },
     "metadata": {
      "needs_background": "light"
     },
     "output_type": "display_data"
    }
   ],
   "source": [
    "#ambil data bulan dan tahun saja pada df_cancel\n",
    "total_cancel = df_cancel['Date'].dt.strftime('%Y-%m').value_counts()\n",
    "total_cancel = total_cancel.sort_index(ascending=True)\n",
    "\n",
    "#membuat grafik total pembatalan pemesanan\n",
    "plt.figure(figsize=(5,3))\n",
    "plt.plot(total_cancel.index, total_cancel.values, color='red')\n",
    "plt.xticks(rotation='vertical')\n",
    "plt.xlabel('Date')\n",
    "plt.title('Cancel')\n",
    "plt.show()"
   ]
  },
  {
   "cell_type": "markdown",
   "metadata": {},
   "source": [
    "- Dari grafik pembatalan pesanan di atas, kita dapat melihat bahwa bentuk grafik pembatalan tidak jauh berbeda dengan grafik penjualan.\n",
    "- Total pembatalan paling banyak terjadi pada bulan Oktober 2019 kemudian diikuti bulan November 2019. Hal tersebut menunjukkan bahwa semakin banyak transaksi penjualan terjadi, maka tingkat customer untuk membatalkan pesanannya cenderung tinggi.\n",
    "- Walaupun cenderung tinggi, tetapi selisih antara total penjualan dan pembatalan sangat jauh untuk setiap bulannya."
   ]
  },
  {
   "cell_type": "markdown",
   "metadata": {},
   "source": [
    "#### Q2: Apa produk yang paling sering dibeli?"
   ]
  },
  {
   "cell_type": "markdown",
   "metadata": {},
   "source": [
    "Dikarenakan jumlah produk yang sangat banyak dan tidak memungkinkan untuk memplot semua jenis produk, maka dalam proses ini hanya akan menampilkan 10 produk teratas yang paling laris."
   ]
  },
  {
   "cell_type": "code",
   "execution_count": 18,
   "metadata": {},
   "outputs": [
    {
     "data": {
      "text/plain": [
       "ProductName\n",
       "10 Colour Spaceboy Pen              6571\n",
       "12 Coloured Party Balloons          2155\n",
       "12 Daisy Pegs In Wood Box            349\n",
       "12 Egg House Painted Wood            149\n",
       "12 Hanging Eggs Hand Painted          42\n",
       "                                    ... \n",
       "Zinc T-Light Holder Stars Small     5089\n",
       "Zinc Top 2 Door Wooden Shelf          13\n",
       "Zinc Willie Winkie Candle Stick     2935\n",
       "Zinc Wire Kitchen Organiser           30\n",
       "Zinc Wire Sweetheart Letter Tray      83\n",
       "Name: Quantity, Length: 3753, dtype: int64"
      ]
     },
     "execution_count": 18,
     "metadata": {},
     "output_type": "execute_result"
    }
   ],
   "source": [
    "#menghitung jumlah produk yang terjual\n",
    "total_product = df_transaction.groupby('ProductName')['Quantity'].sum()\n",
    "total_product"
   ]
  },
  {
   "cell_type": "code",
   "execution_count": 19,
   "metadata": {},
   "outputs": [
    {
     "data": {
      "text/plain": [
       "ProductName\n",
       "Paper Craft Little Birdie             80995\n",
       "Medium Ceramic Top Storage Jar        78033\n",
       "Popcorn Holder                        56921\n",
       "World War 2 Gliders Asstd Designs     55047\n",
       "Jumbo Bag Red Retrospot               48478\n",
       "                                      ...  \n",
       "Blue/Nat Shell Necklace W Pendant         1\n",
       "Etched Glass Star Tree Decoration         1\n",
       "Blossom Images Scrap Book Set             1\n",
       "Gardeners Kneeling Pad                    1\n",
       "Blue New Baroque Flock Candlestick        1\n",
       "Name: Quantity, Length: 3753, dtype: int64"
      ]
     },
     "execution_count": 19,
     "metadata": {},
     "output_type": "execute_result"
    }
   ],
   "source": [
    "#mengurutkan jumlah produk dari yang paling banyak dibeli sampai sedikit\n",
    "total_product = total_product.sort_values(ascending=False)\n",
    "total_product"
   ]
  },
  {
   "cell_type": "code",
   "execution_count": 20,
   "metadata": {},
   "outputs": [
    {
     "data": {
      "image/png": "[encoded data removed]",
      "text/plain": [
       "<Figure size 504x288 with 1 Axes>"
      ]
     },
     "metadata": {
      "needs_background": "light"
     },
     "output_type": "display_data"
    }
   ],
   "source": [
    "#ambil 10 produk teratas\n",
    "df_top_10 = pd.DataFrame(total_product.head(10))\n",
    "\n",
    "#agar memudahkan dalam menganalisis, maka akan di plot dalam diagram batang\n",
    "plt.figure(figsize=(7,4))\n",
    "ax = sns.barplot(data=df_top_10, x='Quantity', y=df_top_10.index, \n",
    "                 palette='crest')\n",
    "plt.title('Top 10 Most Bought Product')\n",
    "\n",
    "#menampilkan nilai di samping bar\n",
    "for p in ax.patches:\n",
    "    value = '{:.0f}'.format(p.get_width())\n",
    "    x = p.get_x() + p.get_width() + 1000\n",
    "    y = p.get_y() + p.get_height()/2\n",
    "    ax.annotate(value, (x, y))\n",
    "plt.show()"
   ]
  },
  {
   "cell_type": "markdown",
   "metadata": {},
   "source": [
    "Dalam waktu 1 tahun (Desember 2018 - Desember 2019) produk yang paling laris atau paling banyak dibeli adalah Paper Craft Little Birdie dengan total penjualan sebanyak 80.995. Kemudian di urutan kedua terdapat Medium Ceramic Top Storage Jar dengan total penjualan sebanyak 78.033."
   ]
  },
  {
   "cell_type": "markdown",
   "metadata": {},
   "source": [
    "#### Q3: Berapa banyak produk yang dibeli pelanggan dalam setiap transaksi?"
   ]
  },
  {
   "cell_type": "code",
   "execution_count": 21,
   "metadata": {},
   "outputs": [
    {
     "name": "stdout",
     "output_type": "stream",
     "text": [
      "        Quantity\n",
      "0            228\n",
      "1            352\n",
      "2            352\n",
      "3            352\n",
      "4            352\n",
      "...          ...\n",
      "536320         2\n",
      "536321        74\n",
      "536322        74\n",
      "536323        93\n",
      "536324        71\n",
      "\n",
      "[527764 rows x 1 columns]\n"
     ]
    }
   ],
   "source": [
    "#menghitung jumlah produk yang dibeli dalam setiap transaksi\n",
    "Total_Quantity = df_transaction.groupby('TransactionNo')['Quantity'].transform('sum')\n",
    "Total_Quantity = pd.DataFrame(Total_Quantity)\n",
    "print(Total_Quantity)"
   ]
  },
  {
   "cell_type": "code",
   "execution_count": 22,
   "metadata": {},
   "outputs": [
    {
     "data": {
      "image/png": "[encoded data removed]",
      "text/plain": [
       "<Figure size 432x216 with 1 Axes>"
      ]
     },
     "metadata": {
      "needs_background": "light"
     },
     "output_type": "display_data"
    }
   ],
   "source": [
    "#boxplot dari jumlah produk yang dibeli dalam setiap transaksi\n",
    "plt.figure(figsize=(6,3))\n",
    "sns.boxplot(data=Total_Quantity, x='Quantity')\n",
    "plt.show()"
   ]
  },
  {
   "cell_type": "markdown",
   "metadata": {},
   "source": [
    "Terlihat bahwa terdapat beberapa transaksi yang membeli barang dengan jumlah yang sangat banyak dari kebanyakan customer. Jumlah barang yang dibeli sekitar angka 70.000 dan 80.000."
   ]
  },
  {
   "cell_type": "code",
   "execution_count": 23,
   "metadata": {
    "scrolled": true
   },
   "outputs": [
    {
     "name": "stdout",
     "output_type": "stream",
     "text": [
      "            Quantity\n",
      "count  527764.000000\n",
      "mean      539.230376\n",
      "std       904.600901\n",
      "min         1.000000\n",
      "25%       152.000000\n",
      "50%       303.000000\n",
      "75%       573.000000\n",
      "max     80995.000000\n"
     ]
    }
   ],
   "source": [
    "#menampilkan statistik deskriptif dari jumlah produk yang dibeli per transaksi\n",
    "print(Total_Quantity.describe())"
   ]
  },
  {
   "cell_type": "markdown",
   "metadata": {},
   "source": [
    "- Rata-rata produk yang dibeli per transaksi berjumlah 539.\n",
    "- Jumlah pembelian produk paling sedikit berjumlah 1, dan jumlah produk terbanyak per transaksi berjumlah 80.995.\n",
    "- Sebagian besar transaksi yang dilakukan memiliki jumlah produk antara 152 sampai 573."
   ]
  },
  {
   "cell_type": "markdown",
   "metadata": {},
   "source": [
    "#### Q4: Segmen pelanggan mana yang paling menguntungkan?"
   ]
  },
  {
   "cell_type": "markdown",
   "metadata": {},
   "source": [
    "Dikarenakan segmen yang dibuat hanya berdasarkan tempat tinggal (Country), maka data yang diproses adalah pengelompokkan keuntungan (Price x Quantity) berdasarkan tempat tinggal (Country). "
   ]
  },
  {
   "cell_type": "markdown",
   "metadata": {},
   "source": [
    "Sebelum itu, kita cek terlebih dahulu jumlah Customer untuk setiap Country."
   ]
  },
  {
   "cell_type": "code",
   "execution_count": 24,
   "metadata": {},
   "outputs": [
    {
     "data": {
      "image/png": "[encoded data removed]",
      "text/plain": [
       "<Figure size 360x720 with 1 Axes>"
      ]
     },
     "metadata": {
      "needs_background": "light"
     },
     "output_type": "display_data"
    }
   ],
   "source": [
    "plt.figure(figsize=(5,10))\n",
    "ax = sns.countplot(data=df_transaction, y='Country', color='#3E7C82')\n",
    "plt.title('Country Distribution')\n",
    "\n",
    "total = len(df_transaction['Country'])\n",
    "for p in ax.patches:\n",
    "        percentage = '{:.1f}%'.format(100 * p.get_width()/total)\n",
    "        x = p.get_x() + p.get_width() + 0.02\n",
    "        y = p.get_y() + p.get_height()/2\n",
    "        ax.annotate(percentage, (x, y))\n",
    "\n",
    "plt.show()"
   ]
  },
  {
   "cell_type": "markdown",
   "metadata": {},
   "source": [
    "Terlihat bahwa Customer didominasi dari wilayah United Kingdom, yaitu sebanyak 90,5%. Adapun France di urutan kedua sebanyak 2% dan Germany di urutan ketiga sebanyak 1,9%."
   ]
  },
  {
   "cell_type": "code",
   "execution_count": 26,
   "metadata": {},
   "outputs": [
    {
     "name": "stderr",
     "output_type": "stream",
     "text": [
      "<ipython-input-26-0195b21c6002>:2: SettingWithCopyWarning: \n",
      "A value is trying to be set on a copy of a slice from a DataFrame.\n",
      "Try using .loc[row_indexer,col_indexer] = value instead\n",
      "\n",
      "See the caveats in the documentation: https://pandas.pydata.org/pandas-docs/stable/user_guide/indexing.html#returning-a-view-versus-a-copy\n",
      "  df_transaction['Total_Sales'] = df_transaction['Price'] * df_transaction['Quantity']\n"
     ]
    },
    {
     "data": {
      "text/html": [
       "<div>\n",
       "<style scoped>\n",
       "    .dataframe tbody tr th:only-of-type {\n",
       "        vertical-align: middle;\n",
       "    }\n",
       "\n",
       "    .dataframe tbody tr th {\n",
       "        vertical-align: top;\n",
       "    }\n",
       "\n",
       "    .dataframe thead th {\n",
       "        text-align: right;\n",
       "    }\n",
       "</style>\n",
       "<table border=\"1\" class=\"dataframe\">\n",
       "  <thead>\n",
       "    <tr style=\"text-align: right;\">\n",
       "      <th></th>\n",
       "      <th>TransactionNo</th>\n",
       "      <th>Date</th>\n",
       "      <th>ProductNo</th>\n",
       "      <th>ProductName</th>\n",
       "      <th>Price</th>\n",
       "      <th>Quantity</th>\n",
       "      <th>CustomerNo</th>\n",
       "      <th>Country</th>\n",
       "      <th>Total_Sales</th>\n",
       "    </tr>\n",
       "  </thead>\n",
       "  <tbody>\n",
       "    <tr>\n",
       "      <th>0</th>\n",
       "      <td>581482</td>\n",
       "      <td>2019-12-09</td>\n",
       "      <td>22485</td>\n",
       "      <td>Set Of 2 Wooden Market Crates</td>\n",
       "      <td>21.47</td>\n",
       "      <td>12</td>\n",
       "      <td>17490</td>\n",
       "      <td>United Kingdom</td>\n",
       "      <td>257.64</td>\n",
       "    </tr>\n",
       "    <tr>\n",
       "      <th>1</th>\n",
       "      <td>581475</td>\n",
       "      <td>2019-12-09</td>\n",
       "      <td>22596</td>\n",
       "      <td>Christmas Star Wish List Chalkboard</td>\n",
       "      <td>10.65</td>\n",
       "      <td>36</td>\n",
       "      <td>13069</td>\n",
       "      <td>United Kingdom</td>\n",
       "      <td>383.40</td>\n",
       "    </tr>\n",
       "    <tr>\n",
       "      <th>2</th>\n",
       "      <td>581475</td>\n",
       "      <td>2019-12-09</td>\n",
       "      <td>23235</td>\n",
       "      <td>Storage Tin Vintage Leaf</td>\n",
       "      <td>11.53</td>\n",
       "      <td>12</td>\n",
       "      <td>13069</td>\n",
       "      <td>United Kingdom</td>\n",
       "      <td>138.36</td>\n",
       "    </tr>\n",
       "    <tr>\n",
       "      <th>3</th>\n",
       "      <td>581475</td>\n",
       "      <td>2019-12-09</td>\n",
       "      <td>23272</td>\n",
       "      <td>Tree T-Light Holder Willie Winkie</td>\n",
       "      <td>10.65</td>\n",
       "      <td>12</td>\n",
       "      <td>13069</td>\n",
       "      <td>United Kingdom</td>\n",
       "      <td>127.80</td>\n",
       "    </tr>\n",
       "    <tr>\n",
       "      <th>4</th>\n",
       "      <td>581475</td>\n",
       "      <td>2019-12-09</td>\n",
       "      <td>23239</td>\n",
       "      <td>Set Of 4 Knick Knack Tins Poppies</td>\n",
       "      <td>11.94</td>\n",
       "      <td>6</td>\n",
       "      <td>13069</td>\n",
       "      <td>United Kingdom</td>\n",
       "      <td>71.64</td>\n",
       "    </tr>\n",
       "    <tr>\n",
       "      <th>...</th>\n",
       "      <td>...</td>\n",
       "      <td>...</td>\n",
       "      <td>...</td>\n",
       "      <td>...</td>\n",
       "      <td>...</td>\n",
       "      <td>...</td>\n",
       "      <td>...</td>\n",
       "      <td>...</td>\n",
       "      <td>...</td>\n",
       "    </tr>\n",
       "    <tr>\n",
       "      <th>536320</th>\n",
       "      <td>536585</td>\n",
       "      <td>2018-12-01</td>\n",
       "      <td>37449</td>\n",
       "      <td>Ceramic Cake Stand + Hanging Cakes</td>\n",
       "      <td>20.45</td>\n",
       "      <td>2</td>\n",
       "      <td>17460</td>\n",
       "      <td>United Kingdom</td>\n",
       "      <td>40.90</td>\n",
       "    </tr>\n",
       "    <tr>\n",
       "      <th>536321</th>\n",
       "      <td>536590</td>\n",
       "      <td>2018-12-01</td>\n",
       "      <td>22776</td>\n",
       "      <td>Sweetheart 3 Tier Cake Stand</td>\n",
       "      <td>20.45</td>\n",
       "      <td>1</td>\n",
       "      <td>13065</td>\n",
       "      <td>United Kingdom</td>\n",
       "      <td>20.45</td>\n",
       "    </tr>\n",
       "    <tr>\n",
       "      <th>536322</th>\n",
       "      <td>536590</td>\n",
       "      <td>2018-12-01</td>\n",
       "      <td>22622</td>\n",
       "      <td>Box Of Vintage Alphabet Blocks</td>\n",
       "      <td>20.45</td>\n",
       "      <td>2</td>\n",
       "      <td>13065</td>\n",
       "      <td>United Kingdom</td>\n",
       "      <td>40.90</td>\n",
       "    </tr>\n",
       "    <tr>\n",
       "      <th>536323</th>\n",
       "      <td>536591</td>\n",
       "      <td>2018-12-01</td>\n",
       "      <td>37449</td>\n",
       "      <td>Ceramic Cake Stand + Hanging Cakes</td>\n",
       "      <td>20.45</td>\n",
       "      <td>1</td>\n",
       "      <td>14606</td>\n",
       "      <td>United Kingdom</td>\n",
       "      <td>20.45</td>\n",
       "    </tr>\n",
       "    <tr>\n",
       "      <th>536324</th>\n",
       "      <td>536597</td>\n",
       "      <td>2018-12-01</td>\n",
       "      <td>22220</td>\n",
       "      <td>Cake Stand Lovebird 2 Tier White</td>\n",
       "      <td>20.45</td>\n",
       "      <td>1</td>\n",
       "      <td>18011</td>\n",
       "      <td>United Kingdom</td>\n",
       "      <td>20.45</td>\n",
       "    </tr>\n",
       "  </tbody>\n",
       "</table>\n",
       "<p>527764 rows × 9 columns</p>\n",
       "</div>"
      ],
      "text/plain": [
       "       TransactionNo       Date ProductNo  \\\n",
       "0             581482 2019-12-09     22485   \n",
       "1             581475 2019-12-09     22596   \n",
       "2             581475 2019-12-09     23235   \n",
       "3             581475 2019-12-09     23272   \n",
       "4             581475 2019-12-09     23239   \n",
       "...              ...        ...       ...   \n",
       "536320        536585 2018-12-01     37449   \n",
       "536321        536590 2018-12-01     22776   \n",
       "536322        536590 2018-12-01     22622   \n",
       "536323        536591 2018-12-01     37449   \n",
       "536324        536597 2018-12-01     22220   \n",
       "\n",
       "                                ProductName  Price  Quantity CustomerNo  \\\n",
       "0             Set Of 2 Wooden Market Crates  21.47        12      17490   \n",
       "1       Christmas Star Wish List Chalkboard  10.65        36      13069   \n",
       "2                  Storage Tin Vintage Leaf  11.53        12      13069   \n",
       "3         Tree T-Light Holder Willie Winkie  10.65        12      13069   \n",
       "4         Set Of 4 Knick Knack Tins Poppies  11.94         6      13069   \n",
       "...                                     ...    ...       ...        ...   \n",
       "536320   Ceramic Cake Stand + Hanging Cakes  20.45         2      17460   \n",
       "536321         Sweetheart 3 Tier Cake Stand  20.45         1      13065   \n",
       "536322       Box Of Vintage Alphabet Blocks  20.45         2      13065   \n",
       "536323   Ceramic Cake Stand + Hanging Cakes  20.45         1      14606   \n",
       "536324     Cake Stand Lovebird 2 Tier White  20.45         1      18011   \n",
       "\n",
       "               Country  Total_Sales  \n",
       "0       United Kingdom       257.64  \n",
       "1       United Kingdom       383.40  \n",
       "2       United Kingdom       138.36  \n",
       "3       United Kingdom       127.80  \n",
       "4       United Kingdom        71.64  \n",
       "...                ...          ...  \n",
       "536320  United Kingdom        40.90  \n",
       "536321  United Kingdom        20.45  \n",
       "536322  United Kingdom        40.90  \n",
       "536323  United Kingdom        20.45  \n",
       "536324  United Kingdom        20.45  \n",
       "\n",
       "[527764 rows x 9 columns]"
      ]
     },
     "execution_count": 26,
     "metadata": {},
     "output_type": "execute_result"
    }
   ],
   "source": [
    "#hitung nilai penjualan\n",
    "df_transaction['Total_Sales'] = df_transaction['Price'] * df_transaction['Quantity']\n",
    "df_transaction"
   ]
  },
  {
   "cell_type": "code",
   "execution_count": 27,
   "metadata": {},
   "outputs": [
    {
     "data": {
      "image/png": "[encoded data removed]",
      "text/plain": [
       "<Figure size 360x720 with 1 Axes>"
      ]
     },
     "metadata": {
      "needs_background": "light"
     },
     "output_type": "display_data"
    }
   ],
   "source": [
    "#segmentasi Country\n",
    "Sales_Country = df_transaction.groupby('Country')['Total_Sales'].sum()\n",
    "\n",
    "plt.figure(figsize=(5,10))\n",
    "plt.title('Profits From Each Country')\n",
    "ax = sns.barplot(data=df_transaction, x=Sales_Country.values, y=Sales_Country.index, color='#3E7C82')\n",
    "\n",
    "#menampilkan nilai di samping bar\n",
    "for p in ax.patches:\n",
    "    value = '{:.0f}'.format(p.get_width())\n",
    "    x = p.get_x() + p.get_width() + 1000\n",
    "    y = p.get_y() + p.get_height()/2\n",
    "    ax.annotate(value, (x, y))\n",
    "plt.show()"
   ]
  },
  {
   "cell_type": "markdown",
   "metadata": {},
   "source": [
    "Dalam waktu 1 tahun (Desember 2018 - Desember 2019), keuntungan paling banyak diperoleh dari United Kingdom yaitu sebesar £.52.524.576. Kemudian di posisi kedua diperoleh dari negara Netherlands sebesar £.2.151.554 dan di posisi ketiga dari EIRE sebesar £.1.713.411."
   ]
  },
  {
   "cell_type": "markdown",
   "metadata": {},
   "source": [
    "Selanjutnya akan dilihat berdasarkan Customer."
   ]
  },
  {
   "cell_type": "code",
   "execution_count": 28,
   "metadata": {},
   "outputs": [
    {
     "data": {
      "text/plain": [
       "CustomerNo  Country       \n",
       "14646       Netherlands       2112282.03\n",
       "16446       United Kingdom    1002741.57\n",
       "14911       EIRE               914633.52\n",
       "12415       Australia          900545.54\n",
       "18102       United Kingdom     897137.36\n",
       "17450       United Kingdom     891438.53\n",
       "12346       United Kingdom     840113.80\n",
       "14156       EIRE               694965.02\n",
       "13694       United Kingdom     646116.78\n",
       "17511       United Kingdom     639006.19\n",
       "Name: Total_Sales, dtype: float64"
      ]
     },
     "execution_count": 28,
     "metadata": {},
     "output_type": "execute_result"
    }
   ],
   "source": [
    "#segmentasi Customer\n",
    "Sales_Customer = df_transaction.groupby(['CustomerNo','Country'])['Total_Sales'].sum()\n",
    "Sales_Customer = Sales_Customer.sort_values(ascending=False)\n",
    "\n",
    "#ambil 10 daftar customer teratas\n",
    "Sort_Sales_Customer = Sales_Customer.head(10)\n",
    "Sort_Sales_Customer"
   ]
  },
  {
   "cell_type": "markdown",
   "metadata": {},
   "source": [
    "- Berdasarkan tabel di atas, dapat diketahui bahwa ternyata Customer pertama yang paling banyak memberikan keuntungan adalah costumer dengan No 14646 yang berasal dari negara Netherlands, yaitu sebesar £.2.112.282,03.\n",
    "- Sedangkan diurutan kedua terdapat customer dengan No 16446 yang berasal dari negara UK, yaitu sebesar £.1.002.741,57.\n",
    "- Walaupun sebanyak 90,5% customer berasal dari negara UK, ternyata customer No.1 yang paling banyak membeli berasal dari Netherlands. Walaupun begitu, customer yang berasal dari UK tetap mendominasi dan tetap memberikan keuntungan paling banyak dibandingkan negara lainnya."
   ]
  },
  {
   "cell_type": "markdown",
   "metadata": {},
   "source": [
    "#### Q5: Strategi apa yang bisa dilakukan untuk mendapatkan lebih banyak untung?"
   ]
  },
  {
   "cell_type": "markdown",
   "metadata": {},
   "source": [
    "##### a). Analisis penjualan berdasarkan waktu"
   ]
  },
  {
   "cell_type": "markdown",
   "metadata": {},
   "source": [
    "- Berdasarkan pola grafik yang sudah dibuat, terjadi kenaikan penjualan pada bulan November 2019. Hal tersebut dapat disebabkan oleh beberapa hal, diantaranya seperti faktor musiman. Hal tersebut mengakibatkan di bulan-bulan yang lainnya mengalami penurunan atau fluktuasi.\n",
    "- Salah satu hal yang dapat dilakukan untuk menaikkan jumlah pembeli di bulan-bulan lainnya adalah dengan mengadakan promo mingguan ataupun bulanan yang rutin dilakukan, sehingga meningkatkan ketertarikan customer untuk membeli lebih banyak produk."
   ]
  },
  {
   "cell_type": "markdown",
   "metadata": {},
   "source": [
    "##### b). Analisis berdasarkan penjualan produk"
   ]
  },
  {
   "cell_type": "markdown",
   "metadata": {},
   "source": [
    "- Jika dilihat dari total penjualan produk dalam 1 tahun, terdapat beberapa produk yang hanya terjual 1 buah saja. Tentunya dalam hal ini diperlukan suatu strategi khusus untuk meningkatkan penjualan barang yang masih di bawah rata-rata.\n",
    "- Pemberian penawaran pada beberapa produk dapat menjadi salah satu strategi yang dapat dilakukan agar menarik minat customer untuk membeli barang tersebut.\n",
    "- Selain itu, beberapa produk dapat dibuat bundle atau paket khusus yang disertakan pada produk-produk terlaris sehingga penjualan produk tersebut dapat meningkat.\n",
    "- Untuk produk-produk yang sudah laris, maka dapat ditingkatkan kembali persediaan stok barangnya agar penjualan tidak mengalami penurunan."
   ]
  },
  {
   "cell_type": "markdown",
   "metadata": {},
   "source": [
    "##### c). Analisis berdasarkan pembelian oleh customer"
   ]
  },
  {
   "cell_type": "markdown",
   "metadata": {},
   "source": [
    "- Berdasarkan analisis yang sudah dilakukan, terdapat beberapa customer yang paling \"loyal\" dalam membeli barang. Selain itu masih ada sedikitnya customer diluar UK yang masih membeli barang, yang mungkin dapat disebabkan karena tingginya biaya pengiriman dll.\n",
    "- Untuk meningkatkan penjualan diluar UK, customer dapat diberikan keringanan biaya pengiriman agar skala penjualan lebih luas lagi tidak hanya untuk di UK.\n",
    "- Sementara untuk customer yang \"loyal\", dapat diberikan penawaran khusus berupa penawaran insentif atau loyalitas untuk meningkatkan hubungan dengan pelanggan."
   ]
  },
  {
   "cell_type": "code",
   "execution_count": null,
   "metadata": {},
   "outputs": [],
   "source": []
  }
 ],
 "metadata": {
  "kernelspec": {
   "display_name": "Python 3",
   "language": "python",
   "name": "python3"
  },
  "language_info": {
   "codemirror_mode": {
    "name": "ipython",
    "version": 3
   },
   "file_extension": ".py",
   "mimetype": "text/x-python",
   "name": "python",
   "nbconvert_exporter": "python",
   "pygments_lexer": "ipython3",
   "version": "3.8.5"
  }
 },
 "nbformat": 4,
 "nbformat_minor": 5
}
